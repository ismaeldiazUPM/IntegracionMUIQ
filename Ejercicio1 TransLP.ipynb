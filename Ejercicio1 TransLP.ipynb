{
 "cells": [
  {
   "cell_type": "markdown",
   "metadata": {},
   "source": [
    "Se desea maximizar el caudal de calor intercambiado del siguiente sistema, para lo cual se dispone de dos variables de decisión (T2C y T2H)\n",
    "\n",
    "![Ejemplo 1](images/Ej1.png)\n"
   ]
  },
  {
   "cell_type": "markdown",
   "metadata": {},
   "source": [
    "En este caso, resolveremos el ejemplo utilizando el \"Transhipment model\", en el cual se plantean los balances alrededor de cada intervalo de temperaturas\n",
    "\n",
    "![Ejemplo 1](images/Ej1casc.png)\n",
    "\n",
    "**Recordad que las temperaturas están desplazadas** E.g. En el caso de T1H=150, al ser una temperatura de corriente caliente disminuye en una cantidad $\\Delta T_m/2$. Para el caso de T3C=200 pasa a ser 205 C al ser una corriente fría."
   ]
  },
  {
   "cell_type": "code",
   "execution_count": null,
   "metadata": {},
   "outputs": [],
   "source": [
    "from pyomo.environ import *\n",
    "model = ConcreteModel()"
   ]
  },
  {
   "cell_type": "markdown",
   "metadata": {},
   "source": [
    "Variables"
   ]
  },
  {
   "cell_type": "code",
   "execution_count": null,
   "metadata": {},
   "outputs": [],
   "source": [
    "Qhot = model.Qhot = Var(within = NonNegativeReals)\n",
    "Qcold = model.Qcold = Var(within = NonNegativeReals)\n",
    "R1 = model.R1 = Var(within = NonNegativeReals)\n",
    "R2 = model.R2 = Var(within = NonNegativeReals)"
   ]
  },
  {
   "cell_type": "markdown",
   "metadata": {},
   "source": [
    "Objective function"
   ]
  },
  {
   "cell_type": "code",
   "execution_count": null,
   "metadata": {},
   "outputs": [],
   "source": [
    "model.util = Objective(expr = Qhot + Qcold)"
   ]
  },
  {
   "cell_type": "markdown",
   "metadata": {},
   "source": [
    "Constraints"
   ]
  },
  {
   "cell_type": "code",
   "execution_count": null,
   "metadata": {},
   "outputs": [],
   "source": [
    "model.int1 = Constraint(expr = Qhot - 60 - R1 == 0)\n",
    "model.int2 = Constraint(expr = 180 + R1 - R2 - 100 == 0)\n",
    "model.int3 = Constraint(expr = R2 - 20 - Qcold == 0)\n"
   ]
  },
  {
   "cell_type": "markdown",
   "metadata": {},
   "source": [
    "Solution"
   ]
  },
  {
   "cell_type": "code",
   "execution_count": null,
   "metadata": {},
   "outputs": [],
   "source": [
    "results = SolverFactory('glpk').solve(model)\n",
    "model.pprint()\n",
    "results.write()"
   ]
  },
  {
   "cell_type": "code",
   "execution_count": null,
   "metadata": {},
   "outputs": [],
   "source": [
    "Qc = value(model.Qcold)\n",
    "Qh = value(model.Qhot)\n",
    "print('Cold utility = {0:2.2f}, Hot utility = {1:2.2f}'.format(Qc, Qh))"
   ]
  }
 ],
 "metadata": {
  "kernelspec": {
   "display_name": "Python 3.9.12 ('base')",
   "language": "python",
   "name": "python3"
  },
  "language_info": {
   "codemirror_mode": {
    "name": "ipython",
    "version": 3
   },
   "file_extension": ".py",
   "mimetype": "text/x-python",
   "name": "python",
   "nbconvert_exporter": "python",
   "pygments_lexer": "ipython3",
   "version": "3.9.12"
  },
  "vscode": {
   "interpreter": {
    "hash": "8af10453ef098ec50340c55e714beb30c9adc44f8dd678bee3d7d17473f199d8"
   }
  }
 },
 "nbformat": 4,
 "nbformat_minor": 2
}
