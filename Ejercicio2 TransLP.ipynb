{
 "cells": [
  {
   "cell_type": "markdown",
   "metadata": {},
   "source": [
    "![Ejemplo 2](images/Ej2.png)"
   ]
  },
  {
   "cell_type": "markdown",
   "metadata": {},
   "source": [
    "En este caso, resolveremos el ejemplo utilizando el \"Transhipment model\", en el cual se plantean los balances alrededor de cada intervalo de temperaturas\n",
    "\n",
    "![Ejemplo 2](images/Ej2_2.png)\n"
   ]
  },
  {
   "cell_type": "code",
   "execution_count": null,
   "metadata": {},
   "outputs": [],
   "source": [
    "from pyomo.environ import *\n",
    "model = ConcreteModel()"
   ]
  },
  {
   "cell_type": "markdown",
   "metadata": {},
   "source": [
    "Variables"
   ]
  },
  {
   "cell_type": "code",
   "execution_count": null,
   "metadata": {},
   "outputs": [],
   "source": [
    "Qsteam = model.Qsteam = Var(within = NonNegativeReals)\n",
    "Qcw = model.Qcw = Var(within = NonNegativeReals)\n",
    "R1 = model.R1 = Var(within = NonNegativeReals)\n",
    "R2 = model.R2 = Var(within = NonNegativeReals)\n",
    "R3 = model.R3 = Var(within = NonNegativeReals)\n",
    "R4 = model.R4 = Var(within = NonNegativeReals)"
   ]
  },
  {
   "cell_type": "markdown",
   "metadata": {},
   "source": [
    "Objective function"
   ]
  },
  {
   "cell_type": "code",
   "execution_count": null,
   "metadata": {},
   "outputs": [],
   "source": [
    "model.util = Objective(expr = Qsteam + Qcw, sense = minimize)"
   ]
  },
  {
   "cell_type": "markdown",
   "metadata": {},
   "source": [
    "Constraints"
   ]
  },
  {
   "cell_type": "code",
   "execution_count": null,
   "metadata": {},
   "outputs": [],
   "source": [
    "model.int1 = Constraint(expr = Qsteam - 30 - R1 == 0)\n",
    "model.int2 = Constraint(expr = 60 + R1 - R2 - 90 == 0)\n",
    "model.int3 = Constraint(expr = R2 + 70 + 140 - R3 - 105 == 0)\n",
    "model.int4 = Constraint(expr = R3 + 90 + 180 - R4 - 117 -135 == 0)\n",
    "model.int5 = Constraint(expr = R4 + 60 + 120 - 78 - Qcw == 0)\n"
   ]
  },
  {
   "cell_type": "markdown",
   "metadata": {},
   "source": [
    "Solution"
   ]
  },
  {
   "cell_type": "code",
   "execution_count": null,
   "metadata": {},
   "outputs": [],
   "source": [
    "results = SolverFactory('glpk').solve(model)\n",
    "model.pprint()\n",
    "results.write()"
   ]
  },
  {
   "cell_type": "code",
   "execution_count": null,
   "metadata": {},
   "outputs": [],
   "source": [
    "Qc = value(Qcw)\n",
    "Qh = value(Qsteam)\n",
    "print('Cold utility = {0:2.2f}, Hot utility = {1:2.2f}'.format(Qc, Qh))"
   ]
  }
 ],
 "metadata": {
  "kernelspec": {
   "display_name": "Python 3.9.12 ('base')",
   "language": "python",
   "name": "python3"
  },
  "language_info": {
   "codemirror_mode": {
    "name": "ipython",
    "version": 3
   },
   "file_extension": ".py",
   "mimetype": "text/x-python",
   "name": "python",
   "nbconvert_exporter": "python",
   "pygments_lexer": "ipython3",
   "version": "3.9.12"
  },
  "orig_nbformat": 4,
  "vscode": {
   "interpreter": {
    "hash": "8af10453ef098ec50340c55e714beb30c9adc44f8dd678bee3d7d17473f199d8"
   }
  }
 },
 "nbformat": 4,
 "nbformat_minor": 2
}
