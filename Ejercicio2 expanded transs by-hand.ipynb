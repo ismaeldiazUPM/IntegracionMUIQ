{
 "cells": [
  {
   "cell_type": "code",
   "execution_count": null,
   "metadata": {},
   "outputs": [],
   "source": [
    "from pyomo.environ import *\n",
    "model = ConcreteModel()"
   ]
  },
  {
   "cell_type": "code",
   "execution_count": null,
   "metadata": {},
   "outputs": [],
   "source": [
    "model.Qs = Var(within=NonNegativeReals)\n",
    "model.Qw = Var(within=NonNegativeReals)\n",
    "\n",
    "model.Qs11 = Var(within=NonNegativeReals)\n",
    "\n",
    "model.Qs12 = Var(within=NonNegativeReals)\n",
    "model.Q112 = Var(within=NonNegativeReals)\n",
    "\n",
    "model.Qs13 = Var(within=NonNegativeReals)\n",
    "model.Q113 = Var(within=NonNegativeReals)\n",
    "model.Q213 = Var(within=NonNegativeReals)\n",
    "\n",
    "model.Qs14 = Var(within=NonNegativeReals)\n",
    "model.Qs24 = Var(within=NonNegativeReals)\n",
    "model.Q114 = Var(within=NonNegativeReals)\n",
    "model.Q124 = Var(within=NonNegativeReals)\n",
    "model.Q214 = Var(within=NonNegativeReals)\n",
    "model.Q224 = Var(within=NonNegativeReals)\n",
    "\n",
    "model.Qs25 = Var(within=NonNegativeReals)\n",
    "model.Q125 = Var(within=NonNegativeReals)\n",
    "model.Q1w5 = Var(within=NonNegativeReals)\n",
    "model.Q225 = Var(within=NonNegativeReals)\n",
    "model.Q2w5 = Var(within=NonNegativeReals)\n",
    "\n",
    "model.Rs1 = Var(within=NonNegativeReals)\n",
    "model.Rs2 = Var(within=NonNegativeReals)\n",
    "model.R12 = Var(within=NonNegativeReals)\n",
    "model.Rs3 = Var(within=NonNegativeReals)\n",
    "model.R13 = Var(within=NonNegativeReals)\n",
    "model.R23 = Var(within=NonNegativeReals)\n",
    "model.Rs4 = Var(within=NonNegativeReals)\n",
    "model.R14 = Var(within=NonNegativeReals)\n",
    "model.R24 = Var(within=NonNegativeReals)\n",
    "\n"
   ]
  },
  {
   "cell_type": "code",
   "execution_count": null,
   "metadata": {},
   "outputs": [],
   "source": [
    "model.C11=Constraint(expr=model.Qs-model.Qs11-model.Rs1==0)\n",
    "model.C12=Constraint(expr=30-model.Qs11==0)\n",
    "\n",
    "model.C21=Constraint(expr=model.Rs1-model.Qs12-model.Rs2==0)\n",
    "model.C22=Constraint(expr=model.Qs12+model.Q112-90==0)\n",
    "model.C23=Constraint(expr=60-model.Q112-model.R12==0)\n",
    "\n",
    "model.C31=Constraint(expr=model.Rs2-model.Qs13-model.Rs3==0)\n",
    "model.C32=Constraint(expr=70+model.R12-model.Q113-model.R13==0)\n",
    "model.C33=Constraint(expr=140-model.Q213-model.R23==0)\n",
    "model.C34=Constraint(expr=model.Qs13+model.Q113+model.Q213-105==0)\n",
    "\n",
    "model.C41=Constraint(expr=model.Rs3-model.Qs14-model.Qs24-model.Rs4==0)\n",
    "model.C42=Constraint(expr=90+model.R13-model.Q114-model.Q124-model.R14==0)\n",
    "model.C43=Constraint(expr=180+model.R23-model.Q214-model.Q224-model.R24==0)\n",
    "model.C44=Constraint(expr=model.Qs14+model.Q114+model.Q214-135==0)\n",
    "model.C45=Constraint(expr=model.Qs24+model.Q124+model.Q224-117==0)\n",
    "\n",
    "model.C51=Constraint(expr=model.Rs4-model.Qs25==0)\n",
    "model.C52=Constraint(expr=60+model.R14-model.Q125-model.Q1w5==0)\n",
    "model.C53=Constraint(expr=120+model.R24-model.Q225-model.Q2w5==0)\n",
    "model.C54=Constraint(expr=model.Q1w5+model.Q2w5-model.Qw==0)\n",
    "model.C55=Constraint(expr=model.Qs25+model.Q125+model.Q225-78==0)"
   ]
  },
  {
   "cell_type": "code",
   "execution_count": null,
   "metadata": {},
   "outputs": [],
   "source": [
    "model.Obj=Objective(expr=model.Qs+model.Qw)"
   ]
  },
  {
   "cell_type": "code",
   "execution_count": null,
   "metadata": {},
   "outputs": [],
   "source": [
    "results=SolverFactory('glpk').solve(model)\n",
    "model.pprint()\n",
    "results.write()"
   ]
  },
  {
   "cell_type": "code",
   "execution_count": null,
   "metadata": {},
   "outputs": [],
   "source": [
    "model.ys1=Var(within=Binary)\n",
    "model.y11=Var(within=Binary)\n",
    "model.y21=Var(within=Binary)\n",
    "model.ys2=Var(within=Binary)\n",
    "model.y12=Var(within=Binary)\n",
    "model.y22=Var(within=Binary)\n",
    "model.ysw=Var(within=Binary)\n",
    "model.y1w=Var(within=Binary)\n",
    "model.y2w=Var(within=Binary)"
   ]
  },
  {
   "cell_type": "code",
   "execution_count": null,
   "metadata": {},
   "outputs": [],
   "source": [
    "\n",
    "model.C61=Constraint(expr=model.Qs11+model.Qs12+model.Qs13+model.Qs14-60*model.ys1 <=0)\n",
    "model.C62=Constraint(expr=model.Q112+model.Q113+model.Q114-280*model.y11 <=0)\n",
    "model.C63=Constraint(expr=model.Q213+model.Q214-360*model.y21 <=0)\n",
    "model.C64=Constraint(expr=model.Qs24+model.Qs25-60*model.ys2 <=0)\n",
    "model.C65=Constraint(expr=model.Q124+model.Q125-195*model.y12 <=0)\n",
    "model.C66=Constraint(expr=model.Q224+model.Q225-195*model.y22 <=0)\n",
    "model.C67=Constraint(expr=model.ysw <=0)\n",
    "model.C68=Constraint(expr=model.Q1w5-225*model.y1w <=0)\n",
    "model.C69=Constraint(expr=model.Q2w5-225*model.y2w <=0)"
   ]
  },
  {
   "cell_type": "code",
   "execution_count": null,
   "metadata": {},
   "outputs": [],
   "source": [
    "model.Obj.deactivate()\n",
    "model.Objy=Objective(expr=model.ys1+model.y11+model.y21+model.ys2+model.y12+model.y22+model.ysw+model.y1w+model.y2w)"
   ]
  },
  {
   "cell_type": "code",
   "execution_count": null,
   "metadata": {},
   "outputs": [],
   "source": [
    "results=SolverFactory('glpk').solve(model)\n",
    "model.pprint()\n",
    "results.write()"
   ]
  }
 ],
 "metadata": {
  "kernelspec": {
   "display_name": "Python 3.8.3 ('base')",
   "language": "python",
   "name": "python3"
  },
  "language_info": {
   "codemirror_mode": {
    "name": "ipython",
    "version": 3
   },
   "file_extension": ".py",
   "mimetype": "text/x-python",
   "name": "python",
   "nbconvert_exporter": "python",
   "pygments_lexer": "ipython3",
   "version": "3.8.3"
  },
  "orig_nbformat": 4,
  "vscode": {
   "interpreter": {
    "hash": "e06ff7da33dc9620448857a90ad8b5f428f0d573d205a934d2841c8aee45ea32"
   }
  }
 },
 "nbformat": 4,
 "nbformat_minor": 2
}
