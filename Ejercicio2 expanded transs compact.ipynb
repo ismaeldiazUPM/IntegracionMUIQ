{
 "cells": [
  {
   "cell_type": "markdown",
   "metadata": {},
   "source": [
    "![Ejemplo 2](images/Ej2_exp_trans.png)"
   ]
  },
  {
   "cell_type": "code",
   "execution_count": null,
   "metadata": {},
   "outputs": [],
   "source": [
    "from pyomo.environ import *\n",
    "import pandas as pd\n",
    "\n",
    "model = ConcreteModel()"
   ]
  },
  {
   "cell_type": "markdown",
   "metadata": {},
   "source": [
    "Leemos los datos de las corrientes calientes"
   ]
  },
  {
   "cell_type": "code",
   "execution_count": null,
   "metadata": {},
   "outputs": [],
   "source": [
    "Hot_df = pd.read_excel('Datos/Ejercicio2.xlsx', 'Hot',skiprows = 1,index_col=0)\n",
    "Hot_df"
   ]
  },
  {
   "cell_type": "markdown",
   "metadata": {},
   "source": [
    "E igualmente de las frías."
   ]
  },
  {
   "cell_type": "code",
   "execution_count": null,
   "metadata": {},
   "outputs": [],
   "source": [
    "Cold_df = pd.read_excel('Datos/Ejercicio2.xlsx', 'Cold',skiprows = 1,index_col=0)\n",
    "Cold_df"
   ]
  },
  {
   "cell_type": "code",
   "execution_count": null,
   "metadata": {},
   "outputs": [],
   "source": [
    "hotst = Hot_df.index.values.tolist()\n",
    "coldst = Cold_df.index.values.tolist()\n",
    "s=hotst.copy()\n",
    "s.insert(0,'S')\n",
    "w=coldst.copy()\n",
    "w.insert(0,'W')\n",
    "\n",
    "model.i=Set(initialize=hotst)\n",
    "model.j=Set(initialize=coldst)\n",
    "model.s=Set(initialize=s)\n",
    "model.S=Set(initialize='S')\n",
    "model.w=Set(initialize=w)\n",
    "model.W=Set(initialize='W')\n",
    "model.k=Set(initialize=Hot_df.columns)\n"
   ]
  },
  {
   "cell_type": "markdown",
   "metadata": {},
   "source": [
    "Podemos ver lo que hemos creado hasta ahora haciendo un model.pprint()"
   ]
  },
  {
   "cell_type": "code",
   "execution_count": null,
   "metadata": {},
   "outputs": [],
   "source": [
    "model.pprint()"
   ]
  },
  {
   "cell_type": "markdown",
   "metadata": {},
   "source": [
    "Creamos ahora las variables del modelo. Hay i potenciales aportes de calor por utilities calientes (Qs), uno en cada intervalo, al igual que de frías (Qw). De esta forma damos la oportunidad de que entren las utilities en cualquier nivel de temperatura. Creamos también i residuos (R), aunque sabemos que no habrá residuo del intervalo 0 ni tampoco del intervalo 9, lo cual implementaremos como dos restricciones diferentes."
   ]
  },
  {
   "cell_type": "code",
   "execution_count": null,
   "metadata": {},
   "outputs": [],
   "source": [
    "Qs = model.Qs = Var(model.k,within = NonNegativeReals) \n",
    "Qw = model.Qw = Var(model.k,within = NonNegativeReals) \n",
    "R = model.R = Var(model.s,model.k,within = NonNegativeReals)\n",
    "Q = model.Q = Var(model.s,model.w,model.k,within = NonNegativeReals)"
   ]
  },
  {
   "cell_type": "markdown",
   "metadata": {},
   "source": [
    "Buscamos la minimización del vapor del intervalo 1 más la utility fría del intervalo 9."
   ]
  },
  {
   "cell_type": "code",
   "execution_count": null,
   "metadata": {},
   "outputs": [],
   "source": [
    "model.util = Objective(expr = model.Qs[1] + model.Qw[5])"
   ]
  },
  {
   "cell_type": "markdown",
   "metadata": {},
   "source": [
    "Constraints"
   ]
  },
  {
   "cell_type": "code",
   "execution_count": null,
   "metadata": {},
   "outputs": [],
   "source": [
    "nk = list(model.k)[1:] #Creamos una lista que contenga los índices sobre los que haremos el balance. En nuestro caso el balance lo aplicamos en todos los intervalos, excepto el intervalo 0. Es decir sobre 1-5, lo cual expresamos por [1:], es decir, desde 1 hasta el final de la lista.\n",
    "model.C1 = ConstraintList()\n",
    "for k in nk:\n",
    "    for i in model.i:\n",
    "        model.C1.add(\n",
    "        R[i,k-1]+Hot_df.loc[i,k] == R[i,k]+sum(Q[i,j,k] for j in model.j)+sum(Q[i,w,k] for w in model.W)\n",
    "        )\n",
    "\n",
    "model.C2 = ConstraintList()\n",
    "for k in nk:\n",
    "    for s in model.S:\n",
    "        model.C2.add(\n",
    "        R[s,k-1]+Qs[k] == R[s,k]+sum(Q[s,j,k] for j in model.j)\n",
    "        )        \n",
    "\n",
    "model.C3 = ConstraintList()\n",
    "for k in nk:\n",
    "    for j in model.j:\n",
    "        model.C3.add(\n",
    "        sum(Q[i,j,k] for i in model.i)+ sum(Q[i,j,k] for i in model.S) == Cold_df.loc[j,k]\n",
    "        )\n",
    "\n",
    "model.C4 = ConstraintList()\n",
    "for k in nk:\n",
    "        model.C4.add(\n",
    "        sum(Q[i,'W',k] for i in model.i)  == Qw[k]\n",
    "        )\n",
    "\n",
    "\n",
    "model.C5 = ConstraintList()\n",
    "for s in model.s:\n",
    "    model.C5.add(\n",
    "        R[s,0]==0\n",
    "        )\n",
    "\n",
    "model.C6 = ConstraintList()\n",
    "for s in model.s:\n",
    "    model.C6.add(\n",
    "        R[s,5]==0\n",
    "        )\n",
    "\n",
    "nm = list(model.k)[0:1]+list(model.k)[2:]\n",
    "model.C7 = ConstraintList()\n",
    "for m in nm:\n",
    "    model.C7.add(\n",
    "        Qs[m]==0\n",
    "        )\n",
    "\n",
    "nn = list(model.k)[0:5]\n",
    "model.C8 = ConstraintList()\n",
    "for n in nn:\n",
    "    model.C8.add(\n",
    "        Qw[n]==0\n",
    "        )\n",
    "\n",
    "model.C9 = ConstraintList()\n",
    "for k in model.k:\n",
    "    model.C9.add(\n",
    "        Q['S','W',k] ==0\n",
    "    )"
   ]
  },
  {
   "cell_type": "markdown",
   "metadata": {},
   "source": [
    "Resolvemos el modelo"
   ]
  },
  {
   "cell_type": "code",
   "execution_count": null,
   "metadata": {},
   "outputs": [],
   "source": [
    "results = SolverFactory('glpk').solve(model)\n",
    "model.pprint()\n",
    "results.write()"
   ]
  },
  {
   "cell_type": "code",
   "execution_count": null,
   "metadata": {},
   "outputs": [],
   "source": [
    "Qss = value(model.Qs[1])\n",
    "Qww = value(model.Qw[5])\n",
    "print('Cold utility = {0:2.2f}, Hot utility = {1:2.2f}'.format(Qww, Qss))"
   ]
  },
  {
   "cell_type": "markdown",
   "metadata": {},
   "source": [
    "Ahora resolvemos el problema de mínimo número de intercambios"
   ]
  },
  {
   "cell_type": "code",
   "execution_count": null,
   "metadata": {},
   "outputs": [],
   "source": [
    "U = {'C1': [60, 280,360], 'C2': [60, 195,195], 'W':[0,225,225]}\n",
    "U_df = pd.DataFrame(U, index=['S', 'H1', 'H2'])\n",
    "U_df"
   ]
  },
  {
   "cell_type": "code",
   "execution_count": null,
   "metadata": {},
   "outputs": [],
   "source": [
    "model.y=Var(model.s,model.w, within=Binary)\n",
    "\n",
    "model.C10 = ConstraintList()\n",
    "for s in model.s:\n",
    "    for w in model.w:\n",
    "        model.C10.add(\n",
    "        sum(Q[s,w,k] for k in model.k)-U_df.loc[s,w]*model.y[s,w] <=0\n",
    "        )    "
   ]
  },
  {
   "cell_type": "code",
   "execution_count": null,
   "metadata": {},
   "outputs": [],
   "source": [
    "model.util.deactivate()\n",
    "model.sumy = Objective(expr=sum(model.y[s,w] for s in model.s for w in model.w))"
   ]
  },
  {
   "cell_type": "code",
   "execution_count": null,
   "metadata": {},
   "outputs": [],
   "source": [
    "results = SolverFactory('glpk').solve(model)\n",
    "model.pprint()\n",
    "results.write()"
   ]
  }
 ],
 "metadata": {
  "kernelspec": {
   "display_name": "Python 3.9.12 ('base')",
   "language": "python",
   "name": "python3"
  },
  "language_info": {
   "codemirror_mode": {
    "name": "ipython",
    "version": 3
   },
   "file_extension": ".py",
   "mimetype": "text/x-python",
   "name": "python",
   "nbconvert_exporter": "python",
   "pygments_lexer": "ipython3",
   "version": "3.9.12"
  },
  "orig_nbformat": 4,
  "vscode": {
   "interpreter": {
    "hash": "e06ff7da33dc9620448857a90ad8b5f428f0d573d205a934d2841c8aee45ea32"
   }
  }
 },
 "nbformat": 4,
 "nbformat_minor": 2
}
