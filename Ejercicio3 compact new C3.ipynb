{
 "cells": [
  {
   "cell_type": "markdown",
   "metadata": {},
   "source": [
    "![Ejemplo 3](images/Ej3.png)"
   ]
  },
  {
   "cell_type": "markdown",
   "metadata": {},
   "source": [
    "En este ejercicio utilizaremos la notación compacta general para cualquier número de intervalo y corrientes calientes y frías. Para ello, tendremos que leer de dos archivos Excel los aportes de las corrientes calientes y la eliminación de las frías. Estos datos, en forma de tabla, están en el archivo \"Ejercicio3.xlsx\", en las hojas \"Hot\" y \"Cold\", respectivamente."
   ]
  },
  {
   "cell_type": "markdown",
   "metadata": {},
   "source": [
    "En este caso, tendremos que usar la librería Pandas, con la que importaremos los datos para, posteriormente usarlos dentro del modelo de optimización."
   ]
  },
  {
   "cell_type": "code",
   "execution_count": 25,
   "metadata": {},
   "outputs": [],
   "source": [
    "from pyomo.environ import *\n",
    "import pandas as pd\n",
    "\n",
    "model = ConcreteModel()"
   ]
  },
  {
   "cell_type": "markdown",
   "metadata": {},
   "source": [
    "Leemos los datos de las corrientes calientes"
   ]
  },
  {
   "cell_type": "code",
   "execution_count": 26,
   "metadata": {},
   "outputs": [
    {
     "data": {
      "text/html": [
       "<div>\n",
       "<style scoped>\n",
       "    .dataframe tbody tr th:only-of-type {\n",
       "        vertical-align: middle;\n",
       "    }\n",
       "\n",
       "    .dataframe tbody tr th {\n",
       "        vertical-align: top;\n",
       "    }\n",
       "\n",
       "    .dataframe thead th {\n",
       "        text-align: right;\n",
       "    }\n",
       "</style>\n",
       "<table border=\"1\" class=\"dataframe\">\n",
       "  <thead>\n",
       "    <tr style=\"text-align: right;\">\n",
       "      <th></th>\n",
       "      <th>0</th>\n",
       "      <th>1</th>\n",
       "      <th>2</th>\n",
       "      <th>3</th>\n",
       "      <th>4</th>\n",
       "      <th>5</th>\n",
       "      <th>6</th>\n",
       "      <th>7</th>\n",
       "      <th>8</th>\n",
       "      <th>9</th>\n",
       "    </tr>\n",
       "    <tr>\n",
       "      <th>ID</th>\n",
       "      <th></th>\n",
       "      <th></th>\n",
       "      <th></th>\n",
       "      <th></th>\n",
       "      <th></th>\n",
       "      <th></th>\n",
       "      <th></th>\n",
       "      <th></th>\n",
       "      <th></th>\n",
       "      <th></th>\n",
       "    </tr>\n",
       "  </thead>\n",
       "  <tbody>\n",
       "    <tr>\n",
       "      <th>H1</th>\n",
       "      <td>0</td>\n",
       "      <td>360</td>\n",
       "      <td>60</td>\n",
       "      <td>180</td>\n",
       "      <td>60</td>\n",
       "      <td>180</td>\n",
       "      <td>60</td>\n",
       "      <td>0</td>\n",
       "      <td>0</td>\n",
       "      <td>0</td>\n",
       "    </tr>\n",
       "    <tr>\n",
       "      <th>H2</th>\n",
       "      <td>0</td>\n",
       "      <td>0</td>\n",
       "      <td>0</td>\n",
       "      <td>0</td>\n",
       "      <td>0</td>\n",
       "      <td>540</td>\n",
       "      <td>0</td>\n",
       "      <td>0</td>\n",
       "      <td>0</td>\n",
       "      <td>0</td>\n",
       "    </tr>\n",
       "    <tr>\n",
       "      <th>H3</th>\n",
       "      <td>0</td>\n",
       "      <td>0</td>\n",
       "      <td>0</td>\n",
       "      <td>240</td>\n",
       "      <td>80</td>\n",
       "      <td>240</td>\n",
       "      <td>80</td>\n",
       "      <td>160</td>\n",
       "      <td>80</td>\n",
       "      <td>160</td>\n",
       "    </tr>\n",
       "  </tbody>\n",
       "</table>\n",
       "</div>"
      ],
      "text/plain": [
       "    0    1   2    3   4    5   6    7   8    9\n",
       "ID                                            \n",
       "H1  0  360  60  180  60  180  60    0   0    0\n",
       "H2  0    0   0    0   0  540   0    0   0    0\n",
       "H3  0    0   0  240  80  240  80  160  80  160"
      ]
     },
     "execution_count": 26,
     "metadata": {},
     "output_type": "execute_result"
    }
   ],
   "source": [
    "Hot_df = pd.read_excel('Datos/Ejercicio3.xlsx', 'Hot',skiprows = 1,index_col=0)\n",
    "Hot_df\n"
   ]
  },
  {
   "cell_type": "markdown",
   "metadata": {},
   "source": [
    "E igualmente de las frías."
   ]
  },
  {
   "cell_type": "code",
   "execution_count": 27,
   "metadata": {},
   "outputs": [
    {
     "data": {
      "text/html": [
       "<div>\n",
       "<style scoped>\n",
       "    .dataframe tbody tr th:only-of-type {\n",
       "        vertical-align: middle;\n",
       "    }\n",
       "\n",
       "    .dataframe tbody tr th {\n",
       "        vertical-align: top;\n",
       "    }\n",
       "\n",
       "    .dataframe thead th {\n",
       "        text-align: right;\n",
       "    }\n",
       "</style>\n",
       "<table border=\"1\" class=\"dataframe\">\n",
       "  <thead>\n",
       "    <tr style=\"text-align: right;\">\n",
       "      <th></th>\n",
       "      <th>0</th>\n",
       "      <th>1</th>\n",
       "      <th>2</th>\n",
       "      <th>3</th>\n",
       "      <th>4</th>\n",
       "      <th>5</th>\n",
       "      <th>6</th>\n",
       "      <th>7</th>\n",
       "      <th>8</th>\n",
       "      <th>9</th>\n",
       "    </tr>\n",
       "    <tr>\n",
       "      <th>ID</th>\n",
       "      <th></th>\n",
       "      <th></th>\n",
       "      <th></th>\n",
       "      <th></th>\n",
       "      <th></th>\n",
       "      <th></th>\n",
       "      <th></th>\n",
       "      <th></th>\n",
       "      <th></th>\n",
       "      <th></th>\n",
       "    </tr>\n",
       "  </thead>\n",
       "  <tbody>\n",
       "    <tr>\n",
       "      <th>C1</th>\n",
       "      <td>0</td>\n",
       "      <td>0</td>\n",
       "      <td>150</td>\n",
       "      <td>450</td>\n",
       "      <td>150</td>\n",
       "      <td>450</td>\n",
       "      <td>150</td>\n",
       "      <td>300</td>\n",
       "      <td>150</td>\n",
       "      <td>0</td>\n",
       "    </tr>\n",
       "    <tr>\n",
       "      <th>C2</th>\n",
       "      <td>0</td>\n",
       "      <td>0</td>\n",
       "      <td>0</td>\n",
       "      <td>0</td>\n",
       "      <td>160</td>\n",
       "      <td>480</td>\n",
       "      <td>160</td>\n",
       "      <td>320</td>\n",
       "      <td>0</td>\n",
       "      <td>0</td>\n",
       "    </tr>\n",
       "    <tr>\n",
       "      <th>C3</th>\n",
       "      <td>0</td>\n",
       "      <td>0</td>\n",
       "      <td>0</td>\n",
       "      <td>0</td>\n",
       "      <td>0</td>\n",
       "      <td>0</td>\n",
       "      <td>0</td>\n",
       "      <td>400</td>\n",
       "      <td>200</td>\n",
       "      <td>400</td>\n",
       "    </tr>\n",
       "  </tbody>\n",
       "</table>\n",
       "</div>"
      ],
      "text/plain": [
       "    0  1    2    3    4    5    6    7    8    9\n",
       "ID                                              \n",
       "C1  0  0  150  450  150  450  150  300  150    0\n",
       "C2  0  0    0    0  160  480  160  320    0    0\n",
       "C3  0  0    0    0    0    0    0  400  200  400"
      ]
     },
     "execution_count": 27,
     "metadata": {},
     "output_type": "execute_result"
    }
   ],
   "source": [
    "Cold_df = pd.read_excel('Datos/Ejercicio3.xlsx', 'NewCold3',skiprows = 1, index_col=0)\n",
    "Cold_df"
   ]
  },
  {
   "cell_type": "markdown",
   "metadata": {},
   "source": [
    "Las columnas de las tablas anteriores son los diferentes intervalos de temperatura (9+1 ya que incluimos un intervalo 0 que necesitamos porque en el balance aparece el término R(i-1)), mientras que las filas son las corrientes calientes y frías respectivamente. Con estos datos crearemos tres índices para el modelo: uno (h) contendrá los identificadores de las corrientes calientes (H1, H2 y H3), otro (c) de las frías (C1 y C2) y un último (i) con los diez intervalos (0-9)"
   ]
  },
  {
   "cell_type": "code",
   "execution_count": 28,
   "metadata": {},
   "outputs": [],
   "source": [
    "hotst = Hot_df.index.values.tolist()\n",
    "coldst = Cold_df.index.values.tolist()\n",
    "model.h=Set(initialize=hotst)\n",
    "model.c=Set(initialize=coldst)\n",
    "model.i=Set(initialize=Hot_df.columns)"
   ]
  },
  {
   "cell_type": "markdown",
   "metadata": {},
   "source": [
    "Podemos ver lo que hemos creado hasta ahora haciendo un model.pprint()"
   ]
  },
  {
   "cell_type": "code",
   "execution_count": 29,
   "metadata": {},
   "outputs": [
    {
     "name": "stdout",
     "output_type": "stream",
     "text": [
      "3 Set Declarations\n",
      "    c : Size=1, Index=None, Ordered=Insertion\n",
      "        Key  : Dimen : Domain : Size : Members\n",
      "        None :     1 :    Any :    3 : {'C1', 'C2', 'C3'}\n",
      "    h : Size=1, Index=None, Ordered=Insertion\n",
      "        Key  : Dimen : Domain : Size : Members\n",
      "        None :     1 :    Any :    3 : {'H1', 'H2', 'H3'}\n",
      "    i : Size=1, Index=None, Ordered=Insertion\n",
      "        Key  : Dimen : Domain : Size : Members\n",
      "        None :     1 :    Any :   10 : {0, 1, 2, 3, 4, 5, 6, 7, 8, 9}\n",
      "\n",
      "3 Declarations: h c i\n"
     ]
    }
   ],
   "source": [
    "model.pprint()"
   ]
  },
  {
   "cell_type": "markdown",
   "metadata": {},
   "source": [
    "Creamos ahora las variables del modelo. Hay i potenciales aportes de calor por utilities calientes (Qs), uno en cada intervalo, al igual que de frías (Qw). De esta forma damos la oportunidad de que entren las utilities en cualquier nivel de temperatura. Creamos también i residuos (R), aunque sabemos que no habrá residuo del intervalo 0 ni tampoco del intervalo 9, lo cual implementaremos como dos restricciones diferentes."
   ]
  },
  {
   "cell_type": "code",
   "execution_count": 30,
   "metadata": {},
   "outputs": [],
   "source": [
    "Qs = model.Qs = Var(model.i,within = NonNegativeReals)\n",
    "Qw = model.Qc = Var(model.i,within = NonNegativeReals)\n",
    "R = model.R = Var(model.i,within = NonNegativeReals)"
   ]
  },
  {
   "cell_type": "markdown",
   "metadata": {},
   "source": [
    "Buscamos la minimización del vapor del intervalo 1 más la utility fría del intervalo 9."
   ]
  },
  {
   "cell_type": "code",
   "execution_count": 31,
   "metadata": {},
   "outputs": [],
   "source": [
    "model.util = Objective(expr = model.Qs[1] + model.Qc[9])"
   ]
  },
  {
   "cell_type": "markdown",
   "metadata": {},
   "source": [
    "Constraints"
   ]
  },
  {
   "cell_type": "code",
   "execution_count": 32,
   "metadata": {},
   "outputs": [],
   "source": [
    "ni = list(model.i)[1:] #Creamos una lista que contenga los índices sobre los que haremos el balance. En nuestro caso el balance lo aplicamos en todos los intervalos, excepto el intervalo 0. Es decir sobre 1-9, lo cual expresamos por [1:], es decir, desde 1 hasta el final de la lista.\n",
    "model.int = ConstraintList()\n",
    "for i in ni:\n",
    "    model.int.add(\n",
    "        R[i-1]+Qs[i]+sum(Hot_df[i]) == R[i]+sum(Cold_df[i])+Qw[i]\n",
    "    )\n",
    "\n",
    "model.R0 = Constraint(expr = R[0] == 0) #No hay residuo ni desde intervalo 0 ni desde 9\n",
    "model.R9 = Constraint(expr = R[9] == 0)\n",
    "\n",
    "nii = list(model.i)[0:1]+list(model.i)[2:] #Con esta restricción buscamos que solo se aporte utility en el primer intervalo (no más abajo), por lo que decimos que desde 2 a 9 la variable Qs sea 0 y también que Qs[0] sea 0. Es decir, que solo dejamos como variable Qs[1]\n",
    "model.steam = ConstraintList()\n",
    "for i in nii:\n",
    "    model.steam.add(\n",
    "        Qs[i]==0\n",
    "    )\n",
    "\n",
    "niii = list(model.i)[0:9] #Lo mismo deantes para la utility fría. Es decir de 0 a 8 (el 9 no está incluido en el intervalo al expresarlo así en Python) Qw es 0.\n",
    "model.cw = ConstraintList()\n",
    "for i in niii:\n",
    "    model.cw.add(\n",
    "        Qw[i]==0\n",
    "    )\n",
    "\n"
   ]
  },
  {
   "cell_type": "markdown",
   "metadata": {},
   "source": [
    "Resolvemos el modelo"
   ]
  },
  {
   "cell_type": "code",
   "execution_count": 33,
   "metadata": {},
   "outputs": [
    {
     "name": "stdout",
     "output_type": "stream",
     "text": [
      "6 Set Declarations\n",
      "    c : Size=1, Index=None, Ordered=Insertion\n",
      "        Key  : Dimen : Domain : Size : Members\n",
      "        None :     1 :    Any :    3 : {'C1', 'C2', 'C3'}\n",
      "    cw_index : Size=1, Index=None, Ordered=Insertion\n",
      "        Key  : Dimen : Domain : Size : Members\n",
      "        None :     1 :    Any :    9 : {1, 2, 3, 4, 5, 6, 7, 8, 9}\n",
      "    h : Size=1, Index=None, Ordered=Insertion\n",
      "        Key  : Dimen : Domain : Size : Members\n",
      "        None :     1 :    Any :    3 : {'H1', 'H2', 'H3'}\n",
      "    i : Size=1, Index=None, Ordered=Insertion\n",
      "        Key  : Dimen : Domain : Size : Members\n",
      "        None :     1 :    Any :   10 : {0, 1, 2, 3, 4, 5, 6, 7, 8, 9}\n",
      "    int_index : Size=1, Index=None, Ordered=Insertion\n",
      "        Key  : Dimen : Domain : Size : Members\n",
      "        None :     1 :    Any :    9 : {1, 2, 3, 4, 5, 6, 7, 8, 9}\n",
      "    steam_index : Size=1, Index=None, Ordered=Insertion\n",
      "        Key  : Dimen : Domain : Size : Members\n",
      "        None :     1 :    Any :    9 : {1, 2, 3, 4, 5, 6, 7, 8, 9}\n",
      "\n",
      "3 Var Declarations\n",
      "    Qc : Size=10, Index=i\n",
      "        Key : Lower : Value : Upper : Fixed : Stale : Domain\n",
      "          0 :     0 :   0.0 :  None : False : False : NonNegativeReals\n",
      "          1 :     0 :   0.0 :  None : False : False : NonNegativeReals\n",
      "          2 :     0 :   0.0 :  None : False : False : NonNegativeReals\n",
      "          3 :     0 :   0.0 :  None : False : False : NonNegativeReals\n",
      "          4 :     0 :   0.0 :  None : False : False : NonNegativeReals\n",
      "          5 :     0 :   0.0 :  None : False : False : NonNegativeReals\n",
      "          6 :     0 :   0.0 :  None : False : False : NonNegativeReals\n",
      "          7 :     0 :   0.0 :  None : False : False : NonNegativeReals\n",
      "          8 :     0 :   0.0 :  None : False : False : NonNegativeReals\n",
      "          9 :     0 :   0.0 :  None : False : False : NonNegativeReals\n",
      "    Qs : Size=10, Index=i\n",
      "        Key : Lower : Value  : Upper : Fixed : Stale : Domain\n",
      "          0 :     0 :    0.0 :  None : False : False : NonNegativeReals\n",
      "          1 :     0 : 1440.0 :  None : False : False : NonNegativeReals\n",
      "          2 :     0 :    0.0 :  None : False : False : NonNegativeReals\n",
      "          3 :     0 :    0.0 :  None : False : False : NonNegativeReals\n",
      "          4 :     0 :    0.0 :  None : False : False : NonNegativeReals\n",
      "          5 :     0 :    0.0 :  None : False : False : NonNegativeReals\n",
      "          6 :     0 :    0.0 :  None : False : False : NonNegativeReals\n",
      "          7 :     0 :    0.0 :  None : False : False : NonNegativeReals\n",
      "          8 :     0 :    0.0 :  None : False : False : NonNegativeReals\n",
      "          9 :     0 :    0.0 :  None : False : False : NonNegativeReals\n",
      "    R : Size=10, Index=i\n",
      "        Key : Lower : Value  : Upper : Fixed : Stale : Domain\n",
      "          0 :     0 :    0.0 :  None : False : False : NonNegativeReals\n",
      "          1 :     0 : 1800.0 :  None : False : False : NonNegativeReals\n",
      "          2 :     0 : 1710.0 :  None : False : False : NonNegativeReals\n",
      "          3 :     0 : 1680.0 :  None : False : False : NonNegativeReals\n",
      "          4 :     0 : 1510.0 :  None : False : False : NonNegativeReals\n",
      "          5 :     0 : 1540.0 :  None : False : False : NonNegativeReals\n",
      "          6 :     0 : 1370.0 :  None : False : False : NonNegativeReals\n",
      "          7 :     0 :  510.0 :  None : False : False : NonNegativeReals\n",
      "          8 :     0 :  240.0 :  None : False : False : NonNegativeReals\n",
      "          9 :     0 :    0.0 :  None : False : False : NonNegativeReals\n",
      "\n",
      "1 Objective Declarations\n",
      "    util : Size=1, Index=None, Active=True\n",
      "        Key  : Active : Sense    : Expression\n",
      "        None :   True : minimize : Qs[1] + Qc[9]\n",
      "\n",
      "5 Constraint Declarations\n",
      "    R0 : Size=1, Index=None, Active=True\n",
      "        Key  : Lower : Body : Upper : Active\n",
      "        None :   0.0 : R[0] :   0.0 :   True\n",
      "    R9 : Size=1, Index=None, Active=True\n",
      "        Key  : Lower : Body : Upper : Active\n",
      "        None :   0.0 : R[9] :   0.0 :   True\n",
      "    cw : Size=9, Index=cw_index, Active=True\n",
      "        Key : Lower : Body  : Upper : Active\n",
      "          1 :   0.0 : Qc[0] :   0.0 :   True\n",
      "          2 :   0.0 : Qc[1] :   0.0 :   True\n",
      "          3 :   0.0 : Qc[2] :   0.0 :   True\n",
      "          4 :   0.0 : Qc[3] :   0.0 :   True\n",
      "          5 :   0.0 : Qc[4] :   0.0 :   True\n",
      "          6 :   0.0 : Qc[5] :   0.0 :   True\n",
      "          7 :   0.0 : Qc[6] :   0.0 :   True\n",
      "          8 :   0.0 : Qc[7] :   0.0 :   True\n",
      "          9 :   0.0 : Qc[8] :   0.0 :   True\n",
      "    int : Size=9, Index=int_index, Active=True\n",
      "        Key : Lower : Body                                       : Upper : Active\n",
      "          1 :   0.0 :        R[0] + Qs[1] + 360 - (R[1] + Qc[1]) :   0.0 :   True\n",
      "          2 :   0.0 :   R[1] + Qs[2] + 60 - (R[2] + 150 + Qc[2]) :   0.0 :   True\n",
      "          3 :   0.0 :  R[2] + Qs[3] + 420 - (R[3] + 450 + Qc[3]) :   0.0 :   True\n",
      "          4 :   0.0 :  R[3] + Qs[4] + 140 - (R[4] + 310 + Qc[4]) :   0.0 :   True\n",
      "          5 :   0.0 :  R[4] + Qs[5] + 960 - (R[5] + 930 + Qc[5]) :   0.0 :   True\n",
      "          6 :   0.0 :  R[5] + Qs[6] + 140 - (R[6] + 310 + Qc[6]) :   0.0 :   True\n",
      "          7 :   0.0 : R[6] + Qs[7] + 160 - (R[7] + 1020 + Qc[7]) :   0.0 :   True\n",
      "          8 :   0.0 :   R[7] + Qs[8] + 80 - (R[8] + 350 + Qc[8]) :   0.0 :   True\n",
      "          9 :   0.0 :  R[8] + Qs[9] + 160 - (R[9] + 400 + Qc[9]) :   0.0 :   True\n",
      "    steam : Size=9, Index=steam_index, Active=True\n",
      "        Key : Lower : Body  : Upper : Active\n",
      "          1 :   0.0 : Qs[0] :   0.0 :   True\n",
      "          2 :   0.0 : Qs[2] :   0.0 :   True\n",
      "          3 :   0.0 : Qs[3] :   0.0 :   True\n",
      "          4 :   0.0 : Qs[4] :   0.0 :   True\n",
      "          5 :   0.0 : Qs[5] :   0.0 :   True\n",
      "          6 :   0.0 : Qs[6] :   0.0 :   True\n",
      "          7 :   0.0 : Qs[7] :   0.0 :   True\n",
      "          8 :   0.0 : Qs[8] :   0.0 :   True\n",
      "          9 :   0.0 : Qs[9] :   0.0 :   True\n",
      "\n",
      "15 Declarations: h c i Qs Qc R util int_index int R0 R9 steam_index steam cw_index cw\n",
      "# ==========================================================\n",
      "# = Solver Results                                         =\n",
      "# ==========================================================\n",
      "# ----------------------------------------------------------\n",
      "#   Problem Information\n",
      "# ----------------------------------------------------------\n",
      "Problem: \n",
      "- Name: unknown\n",
      "  Lower bound: 1440.0\n",
      "  Upper bound: 1440.0\n",
      "  Number of objectives: 1\n",
      "  Number of constraints: 30\n",
      "  Number of variables: 31\n",
      "  Number of nonzeros: 57\n",
      "  Sense: minimize\n",
      "# ----------------------------------------------------------\n",
      "#   Solver Information\n",
      "# ----------------------------------------------------------\n",
      "Solver: \n",
      "- Status: ok\n",
      "  Termination condition: optimal\n",
      "  Statistics: \n",
      "    Branch and bound: \n",
      "      Number of bounded subproblems: 0\n",
      "      Number of created subproblems: 0\n",
      "  Error rc: 0\n",
      "  Time: 0.08304977416992188\n",
      "# ----------------------------------------------------------\n",
      "#   Solution Information\n",
      "# ----------------------------------------------------------\n",
      "Solution: \n",
      "- number of solutions: 0\n",
      "  number of solutions displayed: 0\n"
     ]
    }
   ],
   "source": [
    "results = SolverFactory('glpk').solve(model)\n",
    "model.pprint()\n",
    "results.write()"
   ]
  },
  {
   "cell_type": "code",
   "execution_count": 34,
   "metadata": {},
   "outputs": [
    {
     "name": "stdout",
     "output_type": "stream",
     "text": [
      "Cold utility = 0.00, Hot utility = 1440.00\n"
     ]
    }
   ],
   "source": [
    "Qh = value(model.Qs[1])\n",
    "Qc = value(model.Qc[9])\n",
    "print('Cold utility = {0:2.2f}, Hot utility = {1:2.2f}'.format(Qc, Qh))"
   ]
  }
 ],
 "metadata": {
  "kernelspec": {
   "display_name": "Python 3.8.3 ('base')",
   "language": "python",
   "name": "python3"
  },
  "language_info": {
   "codemirror_mode": {
    "name": "ipython",
    "version": 3
   },
   "file_extension": ".py",
   "mimetype": "text/x-python",
   "name": "python",
   "nbconvert_exporter": "python",
   "pygments_lexer": "ipython3",
   "version": "3.9.13"
  },
  "orig_nbformat": 4,
  "vscode": {
   "interpreter": {
    "hash": "e06ff7da33dc9620448857a90ad8b5f428f0d573d205a934d2841c8aee45ea32"
   }
  }
 },
 "nbformat": 4,
 "nbformat_minor": 2
}
