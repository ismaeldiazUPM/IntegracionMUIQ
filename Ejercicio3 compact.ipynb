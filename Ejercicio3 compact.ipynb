{
 "cells": [
  {
   "cell_type": "markdown",
   "metadata": {},
   "source": [
    "![Ejemplo 3](images/Ej3.png)"
   ]
  },
  {
   "cell_type": "markdown",
   "metadata": {},
   "source": [
    "En este ejercicio utilizaremos la notación compacta general para cualquier número de intervalo y corrientes calientes y frías. Para ello, tendremos que leer de dos archivos Excel los aportes de las corrientes calientes y la eliminación de las frías. Estos datos, en forma de tabla, están en el archivo \"Ejercicio3.xlsx\", en las hojas \"Hot\" y \"Cold\", respectivamente."
   ]
  },
  {
   "cell_type": "markdown",
   "metadata": {},
   "source": [
    "En este caso, tendremos que usar la librería Pandas, con la que importaremos los datos para, posteriormente usarlos dentro del modelo de optimización."
   ]
  },
  {
   "cell_type": "code",
   "execution_count": null,
   "metadata": {},
   "outputs": [],
   "source": [
    "from pyomo.environ import *\n",
    "import pandas as pd\n",
    "\n",
    "model = ConcreteModel()"
   ]
  },
  {
   "cell_type": "markdown",
   "metadata": {},
   "source": [
    "Leemos los datos de las corrientes calientes"
   ]
  },
  {
   "cell_type": "code",
   "execution_count": null,
   "metadata": {},
   "outputs": [],
   "source": [
    "Hot_df = pd.read_excel('Datos/Ejercicio3.xlsx', 'Hot',skiprows = 1,index_col=0)\n",
    "Hot_df"
   ]
  },
  {
   "cell_type": "markdown",
   "metadata": {},
   "source": [
    "E igualmente de las frías."
   ]
  },
  {
   "cell_type": "code",
   "execution_count": null,
   "metadata": {},
   "outputs": [],
   "source": [
    "Cold_df = pd.read_excel('Datos/Ejercicio3.xlsx', 'Cold',skiprows = 1,index_col=0)\n",
    "Cold_df"
   ]
  },
  {
   "cell_type": "markdown",
   "metadata": {},
   "source": [
    "Las columnas de las tablas anteriores son los diferentes intervalos de temperatura (9+1 ya que incluimos un intervalo 0 que necesitamos porque en el balance aparece el término R(i-1)), mientras que las filas son las corrientes calientes y frías respectivamente. Con estos datos crearemos tres índices para el modelo: uno (h) contendrá los identificadores de las corrientes calientes (H1, H2 y H3), otro (c) de las frías (C1 y C2) y un último (i) con los diez intervalos (0-9)"
   ]
  },
  {
   "cell_type": "code",
   "execution_count": null,
   "metadata": {},
   "outputs": [],
   "source": [
    "hotst = Hot_df.index.values.tolist()\n",
    "coldst = Cold_df.index.values.tolist()\n",
    "model.h=Set(initialize=hotst)\n",
    "model.c=Set(initialize=coldst)\n",
    "model.i=Set(initialize=Hot_df.columns)"
   ]
  },
  {
   "cell_type": "markdown",
   "metadata": {},
   "source": [
    "Con int_max calculamos el número total de intervalos"
   ]
  },
  {
   "cell_type": "code",
   "execution_count": null,
   "metadata": {},
   "outputs": [],
   "source": [
    "int_max=max(Hot_df.columns.values.tolist())"
   ]
  },
  {
   "cell_type": "markdown",
   "metadata": {},
   "source": [
    "Podemos ver lo que hemos creado hasta ahora haciendo un model.pprint()"
   ]
  },
  {
   "cell_type": "code",
   "execution_count": null,
   "metadata": {},
   "outputs": [],
   "source": [
    "model.pprint()"
   ]
  },
  {
   "cell_type": "markdown",
   "metadata": {},
   "source": [
    "Creamos ahora las variables del modelo. Hay i potenciales aportes de calor por utilities calientes (Qs), uno en cada intervalo, al igual que de frías (Qw). De esta forma damos la oportunidad de que entren las utilities en cualquier nivel de temperatura. Creamos también i residuos (R), aunque sabemos que no habrá residuo del intervalo 0 ni tampoco del intervalo 9, lo cual implementaremos como dos restricciones diferentes."
   ]
  },
  {
   "cell_type": "code",
   "execution_count": null,
   "metadata": {},
   "outputs": [],
   "source": [
    "Qs = model.Qs = Var(model.i,within = NonNegativeReals)\n",
    "Qw = model.Qc = Var(model.i,within = NonNegativeReals)\n",
    "R = model.R = Var(model.i,within = NonNegativeReals)"
   ]
  },
  {
   "cell_type": "markdown",
   "metadata": {},
   "source": [
    "Buscamos la minimización del vapor del intervalo 1 más la utility fría del intervalo 9."
   ]
  },
  {
   "cell_type": "code",
   "execution_count": null,
   "metadata": {},
   "outputs": [],
   "source": [
    "model.util = Objective(expr = model.Qs[1] + model.Qc[int_max])"
   ]
  },
  {
   "cell_type": "markdown",
   "metadata": {},
   "source": [
    "Constraints"
   ]
  },
  {
   "cell_type": "code",
   "execution_count": null,
   "metadata": {},
   "outputs": [],
   "source": [
    "ni = list(model.i)[1:] #Creamos una lista que contenga los índices sobre los que haremos el balance. En nuestro caso el balance lo aplicamos en todos los intervalos, excepto el intervalo 0. Es decir sobre 1-9, lo cual expresamos por [1:], es decir, desde 1 hasta el final de la lista.\n",
    "model.int = ConstraintList()\n",
    "for i in ni:\n",
    "    model.int.add(\n",
    "        R[i-1]+Qs[i]+sum(Hot_df[i]) == R[i]+sum(Cold_df[i])+Qw[i]\n",
    "    )\n",
    "\n",
    "model.R0 = Constraint(expr = R[0] == 0) #No hay residuo ni desde intervalo 0 ni desde 9\n",
    "model.R9 = Constraint(expr = R[int_max] == 0)\n",
    "\n",
    "nii = list(model.i)[0:1]+list(model.i)[2:] #Con esta restricción buscamos que solo se aporte utility en el primer intervalo (no más abajo), por lo que decimos que desde 2 a 9 la variable Qs sea 0 y también que Qs[0] sea 0. Es decir, que solo dejamos como variable Qs[1]\n",
    "model.steam = ConstraintList()\n",
    "for i in nii:\n",
    "    model.steam.add(\n",
    "        Qs[i]==0\n",
    "    )\n",
    "\n",
    "niii = list(model.i)[0:int_max] #Lo mismo deantes para la utility fría. Es decir de 0 a 8 (el 9 no está incluido en el intervalo al expresarlo así en Python) Qw es 0.\n",
    "model.cw = ConstraintList()\n",
    "for i in niii:\n",
    "    model.cw.add(\n",
    "        Qw[i]==0\n",
    "    )"
   ]
  },
  {
   "cell_type": "markdown",
   "metadata": {},
   "source": [
    "Resolvemos el modelo"
   ]
  },
  {
   "cell_type": "code",
   "execution_count": null,
   "metadata": {},
   "outputs": [],
   "source": [
    "results = SolverFactory('glpk').solve(model)\n",
    "model.pprint()\n",
    "results.write()"
   ]
  },
  {
   "cell_type": "code",
   "execution_count": null,
   "metadata": {},
   "outputs": [],
   "source": [
    "Qh = value(model.Qs[1])\n",
    "Qc = value(model.Qc[int_max])\n",
    "print('Cold utility = {0:2.1f}, Hot utility = {1:2.1f}'.format(Qc, Qh))"
   ]
  }
 ],
 "metadata": {
  "kernelspec": {
   "display_name": "Python 3.9.12 ('base')",
   "language": "python",
   "name": "python3"
  },
  "language_info": {
   "codemirror_mode": {
    "name": "ipython",
    "version": 3
   },
   "file_extension": ".py",
   "mimetype": "text/x-python",
   "name": "python",
   "nbconvert_exporter": "python",
   "pygments_lexer": "ipython3",
   "version": "3.9.12"
  },
  "orig_nbformat": 4,
  "vscode": {
   "interpreter": {
    "hash": "8af10453ef098ec50340c55e714beb30c9adc44f8dd678bee3d7d17473f199d8"
   }
  }
 },
 "nbformat": 4,
 "nbformat_minor": 2
}
