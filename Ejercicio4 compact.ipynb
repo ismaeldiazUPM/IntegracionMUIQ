{
 "cells": [
  {
   "cell_type": "code",
   "execution_count": null,
   "metadata": {},
   "outputs": [],
   "source": [
    "from pyomo.environ import *\n",
    "import pandas as pd\n",
    "\n",
    "model = ConcreteModel()"
   ]
  },
  {
   "cell_type": "markdown",
   "metadata": {},
   "source": [
    "Creamos el dataframes de las corrientes calientes"
   ]
  },
  {
   "cell_type": "code",
   "execution_count": null,
   "metadata": {},
   "outputs": [],
   "source": [
    "Hot_datos = {0: [0,0], 1: [0,0], 2: [50,0], 3: [25,0],4: [125,190], 5:[0,0]}\n",
    "Hot_df = pd.DataFrame(Hot_datos,index=['H1','H2'])\n",
    "Hot_df"
   ]
  },
  {
   "cell_type": "markdown",
   "metadata": {},
   "source": [
    "E igualmente de las frías."
   ]
  },
  {
   "cell_type": "code",
   "execution_count": null,
   "metadata": {},
   "outputs": [],
   "source": [
    "Cold_datos =  {0: [0,0], 1:[60,0], 2: [40,0], 3: [20,20], 4: [100,100], 5:[20,20]}\n",
    "Cold_df = pd.DataFrame(Cold_datos,index=['C1','C2'])\n",
    "Cold_df"
   ]
  },
  {
   "cell_type": "code",
   "execution_count": null,
   "metadata": {},
   "outputs": [],
   "source": [
    "hotst = Hot_df.index.values.tolist()\n",
    "coldst = Cold_df.index.values.tolist()\n",
    "model.h=Set(initialize=hotst)\n",
    "model.c=Set(initialize=coldst)\n",
    "model.i=Set(initialize=Hot_df.columns)"
   ]
  },
  {
   "cell_type": "markdown",
   "metadata": {},
   "source": [
    "Podemos ver lo que hemos creado hasta ahora haciendo un model.pprint()"
   ]
  },
  {
   "cell_type": "code",
   "execution_count": null,
   "metadata": {},
   "outputs": [],
   "source": [
    "model.pprint()"
   ]
  },
  {
   "cell_type": "markdown",
   "metadata": {},
   "source": [
    "Creamos ahora las variables del modelo. Para cada tipo de utility creamos una variable para cada intervalo, luego impondremos en qué intervalos esa utility es cero."
   ]
  },
  {
   "cell_type": "code",
   "execution_count": null,
   "metadata": {},
   "outputs": [],
   "source": [
    "Qhps = model.Qhps = Var(model.i,within = NonNegativeReals)\n",
    "Qlps = model.Qlps = Var(model.i,within = NonNegativeReals)\n",
    "Qw = model.Qw = Var(model.i,within = NonNegativeReals)\n",
    "R = model.R = Var(model.i,within = NonNegativeReals)"
   ]
  },
  {
   "cell_type": "markdown",
   "metadata": {},
   "source": [
    "Creamos la función de coste a partir de los consumos de utilities y sus precios. Aunque las unidades no coincidan, para la solución da igual. Es decir los precios están en $/kWyr y los consumos en MW. Tendría que coger como base de cálculo un año y los MW transformarlos en kWyr. Como cada término se multiplicaría por el mismo valor, no hay problema porque la solución sería la misma (aunque no sería igual el valor de la FO)."
   ]
  },
  {
   "cell_type": "code",
   "execution_count": null,
   "metadata": {},
   "outputs": [],
   "source": [
    "model.coste = Objective(expr = Qhps[1]*80+Qlps[3]*80 + Qw[5]*20)"
   ]
  },
  {
   "cell_type": "markdown",
   "metadata": {},
   "source": [
    "Constraints"
   ]
  },
  {
   "cell_type": "code",
   "execution_count": null,
   "metadata": {},
   "outputs": [],
   "source": [
    "ni = list(model.i)[1:] \n",
    "model.int = ConstraintList()\n",
    "for i in ni:\n",
    "    model.int.add(\n",
    "        R[i-1]+Qhps[i]+Qlps[i]+sum(Hot_df[i]) == R[i]+sum(Cold_df[i])+Qw[i]\n",
    "    )\n",
    "\n",
    "model.R0 = Constraint(expr = R[0] == 0) \n",
    "model.R9 = Constraint(expr = R[5] == 0)\n",
    "\n",
    "nii = list(model.i)[0:1]+list(model.i)[2:] \n",
    "model.hps = ConstraintList()\n",
    "for i in nii:\n",
    "    model.hps.add(\n",
    "        Qhps[i]==0\n",
    "    )\n",
    "\n",
    "niii = list(model.i)[0:3]+list(model.i)[4:] \n",
    "model.lps = ConstraintList()\n",
    "for i in niii:\n",
    "    model.lps.add(\n",
    "        Qlps[i]==0\n",
    "    )\n",
    "\n",
    "niiii = list(model.i)[0:5] \n",
    "model.cw = ConstraintList()\n",
    "for i in niiii:\n",
    "    model.cw.add(\n",
    "        Qw[i]==0\n",
    "    )"
   ]
  },
  {
   "cell_type": "markdown",
   "metadata": {},
   "source": [
    "Resolvemos el modelo"
   ]
  },
  {
   "cell_type": "code",
   "execution_count": null,
   "metadata": {},
   "outputs": [],
   "source": [
    "results = SolverFactory('glpk').solve(model)\n",
    "model.pprint()\n",
    "results.write()"
   ]
  },
  {
   "cell_type": "code",
   "execution_count": null,
   "metadata": {},
   "outputs": [],
   "source": [
    "Qh = value(model.Qhps[1])\n",
    "Ql = value(model.Qlps[3])\n",
    "Qw = value(model.Qw[5])\n",
    "print('Cold utility = {0:2.2f}, LP Steam = {1:2.2f}, HP Steam = {2:2.2f}'.format(Qw, Ql, Qh))"
   ]
  }
 ],
 "metadata": {
  "kernelspec": {
   "display_name": "Python 3.8.3 ('base')",
   "language": "python",
   "name": "python3"
  },
  "language_info": {
   "codemirror_mode": {
    "name": "ipython",
    "version": 3
   },
   "file_extension": ".py",
   "mimetype": "text/x-python",
   "name": "python",
   "nbconvert_exporter": "python",
   "pygments_lexer": "ipython3",
   "version": "3.9.12"
  },
  "orig_nbformat": 4,
  "vscode": {
   "interpreter": {
    "hash": "e06ff7da33dc9620448857a90ad8b5f428f0d573d205a934d2841c8aee45ea32"
   }
  }
 },
 "nbformat": 4,
 "nbformat_minor": 2
}
