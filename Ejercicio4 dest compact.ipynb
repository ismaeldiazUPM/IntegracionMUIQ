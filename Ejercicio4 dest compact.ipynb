{
 "cells": [
  {
   "cell_type": "code",
   "execution_count": 12,
   "metadata": {},
   "outputs": [],
   "source": [
    "from pyomo.environ import *\n",
    "import pandas as pd\n",
    "\n",
    "model = ConcreteModel()"
   ]
  },
  {
   "cell_type": "markdown",
   "metadata": {},
   "source": [
    "Leemos los datos de las corrientes calientes"
   ]
  },
  {
   "cell_type": "code",
   "execution_count": 13,
   "metadata": {},
   "outputs": [
    {
     "data": {
      "text/html": [
       "<div>\n",
       "<style scoped>\n",
       "    .dataframe tbody tr th:only-of-type {\n",
       "        vertical-align: middle;\n",
       "    }\n",
       "\n",
       "    .dataframe tbody tr th {\n",
       "        vertical-align: top;\n",
       "    }\n",
       "\n",
       "    .dataframe thead th {\n",
       "        text-align: right;\n",
       "    }\n",
       "</style>\n",
       "<table border=\"1\" class=\"dataframe\">\n",
       "  <thead>\n",
       "    <tr style=\"text-align: right;\">\n",
       "      <th></th>\n",
       "      <th>0</th>\n",
       "      <th>1</th>\n",
       "      <th>2</th>\n",
       "      <th>3</th>\n",
       "      <th>4</th>\n",
       "      <th>5</th>\n",
       "      <th>6</th>\n",
       "      <th>7</th>\n",
       "      <th>8</th>\n",
       "      <th>9</th>\n",
       "      <th>10</th>\n",
       "    </tr>\n",
       "    <tr>\n",
       "      <th>ID</th>\n",
       "      <th></th>\n",
       "      <th></th>\n",
       "      <th></th>\n",
       "      <th></th>\n",
       "      <th></th>\n",
       "      <th></th>\n",
       "      <th></th>\n",
       "      <th></th>\n",
       "      <th></th>\n",
       "      <th></th>\n",
       "      <th></th>\n",
       "    </tr>\n",
       "  </thead>\n",
       "  <tbody>\n",
       "    <tr>\n",
       "      <th>H1</th>\n",
       "      <td>0</td>\n",
       "      <td>0</td>\n",
       "      <td>610</td>\n",
       "      <td>10</td>\n",
       "      <td>270</td>\n",
       "      <td>140</td>\n",
       "      <td>0</td>\n",
       "      <td>0</td>\n",
       "      <td>0</td>\n",
       "      <td>0</td>\n",
       "      <td>0</td>\n",
       "    </tr>\n",
       "    <tr>\n",
       "      <th>H2</th>\n",
       "      <td>0</td>\n",
       "      <td>0</td>\n",
       "      <td>0</td>\n",
       "      <td>0</td>\n",
       "      <td>270</td>\n",
       "      <td>140</td>\n",
       "      <td>350</td>\n",
       "      <td>110</td>\n",
       "      <td>420</td>\n",
       "      <td>0</td>\n",
       "      <td>0</td>\n",
       "    </tr>\n",
       "    <tr>\n",
       "      <th>H3</th>\n",
       "      <td>0</td>\n",
       "      <td>0</td>\n",
       "      <td>0</td>\n",
       "      <td>0</td>\n",
       "      <td>0</td>\n",
       "      <td>0</td>\n",
       "      <td>0</td>\n",
       "      <td>880</td>\n",
       "      <td>0</td>\n",
       "      <td>0</td>\n",
       "      <td>0</td>\n",
       "    </tr>\n",
       "    <tr>\n",
       "      <th>H4</th>\n",
       "      <td>0</td>\n",
       "      <td>0</td>\n",
       "      <td>0</td>\n",
       "      <td>0</td>\n",
       "      <td>0</td>\n",
       "      <td>0</td>\n",
       "      <td>0</td>\n",
       "      <td>0</td>\n",
       "      <td>1260</td>\n",
       "      <td>600</td>\n",
       "      <td>0</td>\n",
       "    </tr>\n",
       "  </tbody>\n",
       "</table>\n",
       "</div>"
      ],
      "text/plain": [
       "    0   1    2   3    4    5    6    7     8    9   10\n",
       "ID                                                    \n",
       "H1   0   0  610  10  270  140    0    0     0    0   0\n",
       "H2   0   0    0   0  270  140  350  110   420    0   0\n",
       "H3   0   0    0   0    0    0    0  880     0    0   0\n",
       "H4   0   0    0   0    0    0    0    0  1260  600   0"
      ]
     },
     "execution_count": 13,
     "metadata": {},
     "output_type": "execute_result"
    }
   ],
   "source": [
    "Hot_df = pd.read_excel('Datos/Ejercicio4.xlsx', 'Hot',skiprows = 1,index_col=0)\n",
    "Hot_df"
   ]
  },
  {
   "cell_type": "markdown",
   "metadata": {},
   "source": [
    "E igualmente de las frías."
   ]
  },
  {
   "cell_type": "code",
   "execution_count": 14,
   "metadata": {},
   "outputs": [
    {
     "data": {
      "text/html": [
       "<div>\n",
       "<style scoped>\n",
       "    .dataframe tbody tr th:only-of-type {\n",
       "        vertical-align: middle;\n",
       "    }\n",
       "\n",
       "    .dataframe tbody tr th {\n",
       "        vertical-align: top;\n",
       "    }\n",
       "\n",
       "    .dataframe thead th {\n",
       "        text-align: right;\n",
       "    }\n",
       "</style>\n",
       "<table border=\"1\" class=\"dataframe\">\n",
       "  <thead>\n",
       "    <tr style=\"text-align: right;\">\n",
       "      <th></th>\n",
       "      <th>0</th>\n",
       "      <th>1</th>\n",
       "      <th>2</th>\n",
       "      <th>3</th>\n",
       "      <th>4</th>\n",
       "      <th>5</th>\n",
       "      <th>6</th>\n",
       "      <th>7</th>\n",
       "      <th>8</th>\n",
       "      <th>9</th>\n",
       "      <th>10</th>\n",
       "    </tr>\n",
       "    <tr>\n",
       "      <th>ID</th>\n",
       "      <th></th>\n",
       "      <th></th>\n",
       "      <th></th>\n",
       "      <th></th>\n",
       "      <th></th>\n",
       "      <th></th>\n",
       "      <th></th>\n",
       "      <th></th>\n",
       "      <th></th>\n",
       "      <th></th>\n",
       "      <th></th>\n",
       "    </tr>\n",
       "  </thead>\n",
       "  <tbody>\n",
       "    <tr>\n",
       "      <th>C1</th>\n",
       "      <td>0</td>\n",
       "      <td>0.000</td>\n",
       "      <td>0.000</td>\n",
       "      <td>25.000</td>\n",
       "      <td>675.000</td>\n",
       "      <td>350</td>\n",
       "      <td>875</td>\n",
       "      <td>275</td>\n",
       "      <td>1050</td>\n",
       "      <td>500</td>\n",
       "      <td>250</td>\n",
       "    </tr>\n",
       "    <tr>\n",
       "      <th>C2</th>\n",
       "      <td>0</td>\n",
       "      <td>1828.597</td>\n",
       "      <td>1828.597</td>\n",
       "      <td>29.977</td>\n",
       "      <td>809.379</td>\n",
       "      <td>0</td>\n",
       "      <td>0</td>\n",
       "      <td>0</td>\n",
       "      <td>0</td>\n",
       "      <td>0</td>\n",
       "      <td>0</td>\n",
       "    </tr>\n",
       "  </tbody>\n",
       "</table>\n",
       "</div>"
      ],
      "text/plain": [
       "    0         1         2       3        4    5    6    7     8    9    10\n",
       "ID                                                                        \n",
       "C1   0     0.000     0.000  25.000  675.000  350  875  275  1050  500  250\n",
       "C2   0  1828.597  1828.597  29.977  809.379    0    0    0     0    0    0"
      ]
     },
     "execution_count": 14,
     "metadata": {},
     "output_type": "execute_result"
    }
   ],
   "source": [
    "Cold_df = pd.read_excel('Datos/Ejercicio4.xlsx', 'Cold',skiprows = 1,index_col=0)\n",
    "Cold_df"
   ]
  },
  {
   "cell_type": "code",
   "execution_count": 15,
   "metadata": {},
   "outputs": [],
   "source": [
    "hotst = Hot_df.index.values.tolist()\n",
    "coldst = Cold_df.index.values.tolist()\n",
    "model.h=Set(initialize=hotst)\n",
    "model.c=Set(initialize=coldst)\n",
    "model.i=Set(initialize=Hot_df.columns)"
   ]
  },
  {
   "cell_type": "markdown",
   "metadata": {},
   "source": [
    "Con int_max calculamos el número total de intervalos"
   ]
  },
  {
   "cell_type": "code",
   "execution_count": 16,
   "metadata": {},
   "outputs": [
    {
     "data": {
      "text/plain": [
       "10"
      ]
     },
     "execution_count": 16,
     "metadata": {},
     "output_type": "execute_result"
    }
   ],
   "source": [
    "int_max=max(Hot_df.columns.values.tolist())\n",
    "int_max"
   ]
  },
  {
   "cell_type": "markdown",
   "metadata": {},
   "source": [
    "Podemos ver lo que hemos creado hasta ahora haciendo un model.pprint()"
   ]
  },
  {
   "cell_type": "code",
   "execution_count": 17,
   "metadata": {},
   "outputs": [
    {
     "name": "stdout",
     "output_type": "stream",
     "text": [
      "3 Set Declarations\n",
      "    c : Size=1, Index=None, Ordered=Insertion\n",
      "        Key  : Dimen : Domain : Size : Members\n",
      "        None :     1 :    Any :    2 : {'C1', 'C2'}\n",
      "    h : Size=1, Index=None, Ordered=Insertion\n",
      "        Key  : Dimen : Domain : Size : Members\n",
      "        None :     1 :    Any :    4 : {'H1', 'H2', 'H3', 'H4'}\n",
      "    i : Size=1, Index=None, Ordered=Insertion\n",
      "        Key  : Dimen : Domain : Size : Members\n",
      "        None :     1 :    Any :   11 : {0, 1, 2, 3, 4, 5, 6, 7, 8, 9, 10}\n",
      "\n",
      "3 Declarations: h c i\n"
     ]
    }
   ],
   "source": [
    "model.pprint()"
   ]
  },
  {
   "cell_type": "code",
   "execution_count": 18,
   "metadata": {},
   "outputs": [],
   "source": [
    "Qs = model.Qs = Var(model.i,within = NonNegativeReals)\n",
    "Qw = model.Qc = Var(model.i,within = NonNegativeReals)\n",
    "R = model.R = Var(model.i,within = NonNegativeReals)"
   ]
  },
  {
   "cell_type": "markdown",
   "metadata": {},
   "source": [
    "Buscamos la minimización del vapor del intervalo 1 más la utility fría del intervalo 9."
   ]
  },
  {
   "cell_type": "code",
   "execution_count": 19,
   "metadata": {},
   "outputs": [],
   "source": [
    "model.util = Objective(expr = model.Qs[1] + model.Qc[int_max])"
   ]
  },
  {
   "cell_type": "markdown",
   "metadata": {},
   "source": [
    "Constraints"
   ]
  },
  {
   "cell_type": "code",
   "execution_count": 20,
   "metadata": {},
   "outputs": [],
   "source": [
    "ni = list(model.i)[1:] \n",
    "model.int = ConstraintList()\n",
    "for i in ni:\n",
    "    model.int.add(\n",
    "        R[i-1]+Qs[i]+sum(Hot_df[i]) == R[i]+sum(Cold_df[i])+Qw[i]\n",
    "    )\n",
    "\n",
    "model.R0 = Constraint(expr = R[0] == 0) \n",
    "model.R9 = Constraint(expr = R[int_max] == 0)\n",
    "\n",
    "nii = list(model.i)[0:1]+list(model.i)[2:] \n",
    "model.steam = ConstraintList()\n",
    "for i in nii:\n",
    "    model.steam.add(\n",
    "        Qs[i]==0\n",
    "    )\n",
    "\n",
    "niii = list(model.i)[0:int_max] \n",
    "model.cw = ConstraintList()\n",
    "for i in niii:\n",
    "    model.cw.add(\n",
    "        Qw[i]==0\n",
    "    )"
   ]
  },
  {
   "cell_type": "markdown",
   "metadata": {},
   "source": [
    "Resolvemos el modelo"
   ]
  },
  {
   "cell_type": "code",
   "execution_count": 21,
   "metadata": {},
   "outputs": [
    {
     "name": "stdout",
     "output_type": "stream",
     "text": [
      "6 Set Declarations\n",
      "    c : Size=1, Index=None, Ordered=Insertion\n",
      "        Key  : Dimen : Domain : Size : Members\n",
      "        None :     1 :    Any :    2 : {'C1', 'C2'}\n",
      "    cw_index : Size=1, Index=None, Ordered=Insertion\n",
      "        Key  : Dimen : Domain : Size : Members\n",
      "        None :     1 :    Any :   10 : {1, 2, 3, 4, 5, 6, 7, 8, 9, 10}\n",
      "    h : Size=1, Index=None, Ordered=Insertion\n",
      "        Key  : Dimen : Domain : Size : Members\n",
      "        None :     1 :    Any :    4 : {'H1', 'H2', 'H3', 'H4'}\n",
      "    i : Size=1, Index=None, Ordered=Insertion\n",
      "        Key  : Dimen : Domain : Size : Members\n",
      "        None :     1 :    Any :   11 : {0, 1, 2, 3, 4, 5, 6, 7, 8, 9, 10}\n",
      "    int_index : Size=1, Index=None, Ordered=Insertion\n",
      "        Key  : Dimen : Domain : Size : Members\n",
      "        None :     1 :    Any :   10 : {1, 2, 3, 4, 5, 6, 7, 8, 9, 10}\n",
      "    steam_index : Size=1, Index=None, Ordered=Insertion\n",
      "        Key  : Dimen : Domain : Size : Members\n",
      "        None :     1 :    Any :   10 : {1, 2, 3, 4, 5, 6, 7, 8, 9, 10}\n",
      "\n",
      "3 Var Declarations\n",
      "    Qc : Size=11, Index=i\n",
      "        Key : Lower : Value  : Upper : Fixed : Stale : Domain\n",
      "          0 :     0 :    0.0 :  None : False : False : NonNegativeReals\n",
      "          1 :     0 :    0.0 :  None : False : False : NonNegativeReals\n",
      "          2 :     0 :    0.0 :  None : False : False : NonNegativeReals\n",
      "          3 :     0 :    0.0 :  None : False : False : NonNegativeReals\n",
      "          4 :     0 :    0.0 :  None : False : False : NonNegativeReals\n",
      "          5 :     0 :    0.0 :  None : False : False : NonNegativeReals\n",
      "          6 :     0 :    0.0 :  None : False : False : NonNegativeReals\n",
      "          7 :     0 :    0.0 :  None : False : False : NonNegativeReals\n",
      "          8 :     0 :    0.0 :  None : False : False : NonNegativeReals\n",
      "          9 :     0 :    0.0 :  None : False : False : NonNegativeReals\n",
      "         10 :     0 : 1195.0 :  None : False : False : NonNegativeReals\n",
      "    Qs : Size=11, Index=i\n",
      "        Key : Lower : Value   : Upper : Fixed : Stale : Domain\n",
      "          0 :     0 :     0.0 :  None : False : False : NonNegativeReals\n",
      "          1 :     0 : 4631.55 :  None : False : False : NonNegativeReals\n",
      "          2 :     0 :     0.0 :  None : False : False : NonNegativeReals\n",
      "          3 :     0 :     0.0 :  None : False : False : NonNegativeReals\n",
      "          4 :     0 :     0.0 :  None : False : False : NonNegativeReals\n",
      "          5 :     0 :     0.0 :  None : False : False : NonNegativeReals\n",
      "          6 :     0 :     0.0 :  None : False : False : NonNegativeReals\n",
      "          7 :     0 :     0.0 :  None : False : False : NonNegativeReals\n",
      "          8 :     0 :     0.0 :  None : False : False : NonNegativeReals\n",
      "          9 :     0 :     0.0 :  None : False : False : NonNegativeReals\n",
      "         10 :     0 :     0.0 :  None : False : False : NonNegativeReals\n",
      "    R : Size=11, Index=i\n",
      "        Key : Lower : Value    : Upper : Fixed : Stale : Domain\n",
      "          0 :     0 :      0.0 :  None : False : False : NonNegativeReals\n",
      "          1 :     0 : 2802.953 :  None : False : False : NonNegativeReals\n",
      "          2 :     0 : 1584.356 :  None : False : False : NonNegativeReals\n",
      "          3 :     0 : 1539.379 :  None : False : False : NonNegativeReals\n",
      "          4 :     0 :    595.0 :  None : False : False : NonNegativeReals\n",
      "          5 :     0 :    525.0 :  None : False : False : NonNegativeReals\n",
      "          6 :     0 :      0.0 :  None : False : False : NonNegativeReals\n",
      "          7 :     0 :    715.0 :  None : False : False : NonNegativeReals\n",
      "          8 :     0 :   1345.0 :  None : False : False : NonNegativeReals\n",
      "          9 :     0 :   1445.0 :  None : False : False : NonNegativeReals\n",
      "         10 :     0 :      0.0 :  None : False : False : NonNegativeReals\n",
      "\n",
      "1 Objective Declarations\n",
      "    util : Size=1, Index=None, Active=True\n",
      "        Key  : Active : Sense    : Expression\n",
      "        None :   True : minimize : Qs[1] + Qc[10]\n",
      "\n",
      "5 Constraint Declarations\n",
      "    R0 : Size=1, Index=None, Active=True\n",
      "        Key  : Lower : Body : Upper : Active\n",
      "        None :   0.0 : R[0] :   0.0 :   True\n",
      "    R9 : Size=1, Index=None, Active=True\n",
      "        Key  : Lower : Body  : Upper : Active\n",
      "        None :   0.0 : R[10] :   0.0 :   True\n",
      "    cw : Size=10, Index=cw_index, Active=True\n",
      "        Key : Lower : Body  : Upper : Active\n",
      "          1 :   0.0 : Qc[0] :   0.0 :   True\n",
      "          2 :   0.0 : Qc[1] :   0.0 :   True\n",
      "          3 :   0.0 : Qc[2] :   0.0 :   True\n",
      "          4 :   0.0 : Qc[3] :   0.0 :   True\n",
      "          5 :   0.0 : Qc[4] :   0.0 :   True\n",
      "          6 :   0.0 : Qc[5] :   0.0 :   True\n",
      "          7 :   0.0 : Qc[6] :   0.0 :   True\n",
      "          8 :   0.0 : Qc[7] :   0.0 :   True\n",
      "          9 :   0.0 : Qc[8] :   0.0 :   True\n",
      "         10 :   0.0 : Qc[9] :   0.0 :   True\n",
      "    int : Size=10, Index=int_index, Active=True\n",
      "        Key : Lower : Body                                                    : Upper : Active\n",
      "          1 :   0.0 :                R[0] + Qs[1] - (R[1] + 1828.597 + Qc[1]) :   0.0 :   True\n",
      "          2 :   0.0 :          R[1] + Qs[2] + 610 - (R[2] + 1828.597 + Qc[2]) :   0.0 :   True\n",
      "          3 :   0.0 : R[2] + Qs[3] + 10 - (R[3] + 54.977000000000004 + Qc[3]) :   0.0 :   True\n",
      "          4 :   0.0 :          R[3] + Qs[4] + 540 - (R[4] + 1484.379 + Qc[4]) :   0.0 :   True\n",
      "          5 :   0.0 :               R[4] + Qs[5] + 280 - (R[5] + 350 + Qc[5]) :   0.0 :   True\n",
      "          6 :   0.0 :               R[5] + Qs[6] + 350 - (R[6] + 875 + Qc[6]) :   0.0 :   True\n",
      "          7 :   0.0 :               R[6] + Qs[7] + 990 - (R[7] + 275 + Qc[7]) :   0.0 :   True\n",
      "          8 :   0.0 :             R[7] + Qs[8] + 1680 - (R[8] + 1050 + Qc[8]) :   0.0 :   True\n",
      "          9 :   0.0 :               R[8] + Qs[9] + 600 - (R[9] + 500 + Qc[9]) :   0.0 :   True\n",
      "         10 :   0.0 :                  R[9] + Qs[10] - (R[10] + 250 + Qc[10]) :   0.0 :   True\n",
      "    steam : Size=10, Index=steam_index, Active=True\n",
      "        Key : Lower : Body   : Upper : Active\n",
      "          1 :   0.0 :  Qs[0] :   0.0 :   True\n",
      "          2 :   0.0 :  Qs[2] :   0.0 :   True\n",
      "          3 :   0.0 :  Qs[3] :   0.0 :   True\n",
      "          4 :   0.0 :  Qs[4] :   0.0 :   True\n",
      "          5 :   0.0 :  Qs[5] :   0.0 :   True\n",
      "          6 :   0.0 :  Qs[6] :   0.0 :   True\n",
      "          7 :   0.0 :  Qs[7] :   0.0 :   True\n",
      "          8 :   0.0 :  Qs[8] :   0.0 :   True\n",
      "          9 :   0.0 :  Qs[9] :   0.0 :   True\n",
      "         10 :   0.0 : Qs[10] :   0.0 :   True\n",
      "\n",
      "15 Declarations: h c i Qs Qc R util int_index int R0 R9 steam_index steam cw_index cw\n",
      "# ==========================================================\n",
      "# = Solver Results                                         =\n",
      "# ==========================================================\n",
      "# ----------------------------------------------------------\n",
      "#   Problem Information\n",
      "# ----------------------------------------------------------\n",
      "Problem: \n",
      "- Name: unknown\n",
      "  Lower bound: 5826.55\n",
      "  Upper bound: 5826.55\n",
      "  Number of objectives: 1\n",
      "  Number of constraints: 33\n",
      "  Number of variables: 34\n",
      "  Number of nonzeros: 63\n",
      "  Sense: minimize\n",
      "# ----------------------------------------------------------\n",
      "#   Solver Information\n",
      "# ----------------------------------------------------------\n",
      "Solver: \n",
      "- Status: ok\n",
      "  Termination condition: optimal\n",
      "  Statistics: \n",
      "    Branch and bound: \n",
      "      Number of bounded subproblems: 0\n",
      "      Number of created subproblems: 0\n",
      "  Error rc: 0\n",
      "  Time: 0.03156638145446777\n",
      "# ----------------------------------------------------------\n",
      "#   Solution Information\n",
      "# ----------------------------------------------------------\n",
      "Solution: \n",
      "- number of solutions: 0\n",
      "  number of solutions displayed: 0\n"
     ]
    }
   ],
   "source": [
    "results = SolverFactory('glpk').solve(model)\n",
    "model.pprint()\n",
    "results.write()"
   ]
  },
  {
   "cell_type": "code",
   "execution_count": 22,
   "metadata": {},
   "outputs": [
    {
     "name": "stdout",
     "output_type": "stream",
     "text": [
      "Cold utility = 1195.0, Hot utility = 4631.6\n"
     ]
    }
   ],
   "source": [
    "Qh = value(model.Qs[1])\n",
    "Qc = value(model.Qc[int_max])\n",
    "print('Cold utility = {0:2.1f}, Hot utility = {1:2.1f}'.format(Qc, Qh))"
   ]
  }
 ],
 "metadata": {
  "kernelspec": {
   "display_name": "Python 3.9.12 ('base')",
   "language": "python",
   "name": "python3"
  },
  "language_info": {
   "codemirror_mode": {
    "name": "ipython",
    "version": 3
   },
   "file_extension": ".py",
   "mimetype": "text/x-python",
   "name": "python",
   "nbconvert_exporter": "python",
   "pygments_lexer": "ipython3",
   "version": "3.9.12"
  },
  "orig_nbformat": 4,
  "vscode": {
   "interpreter": {
    "hash": "8af10453ef098ec50340c55e714beb30c9adc44f8dd678bee3d7d17473f199d8"
   }
  }
 },
 "nbformat": 4,
 "nbformat_minor": 2
}
