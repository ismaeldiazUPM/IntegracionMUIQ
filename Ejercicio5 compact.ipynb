{
 "cells": [
  {
   "cell_type": "code",
   "execution_count": null,
   "metadata": {},
   "outputs": [],
   "source": [
    "from pyomo.environ import *\n",
    "import pandas as pd\n",
    "\n",
    "model = ConcreteModel()"
   ]
  },
  {
   "cell_type": "markdown",
   "metadata": {},
   "source": [
    "Creamos el dataframes de las corrientes calientes"
   ]
  },
  {
   "cell_type": "code",
   "execution_count": null,
   "metadata": {},
   "outputs": [],
   "source": [
    "Hot_datos = {0: [0,0], 1: [0,0], 2: [50,0], 3: [25,0],4: [125,190], 5:[0,0]}\n",
    "Hot_df = pd.DataFrame(Hot_datos,index=['H1','H2'])\n",
    "Hot_df"
   ]
  },
  {
   "cell_type": "markdown",
   "metadata": {},
   "source": [
    "E igualmente de las frías."
   ]
  },
  {
   "cell_type": "code",
   "execution_count": null,
   "metadata": {},
   "outputs": [],
   "source": [
    "Cold_datos =  {0: [0,0], 1:[60,0], 2: [40,0], 3: [20,20], 4: [100,100], 5:[20,20]}\n",
    "Cold_df = pd.DataFrame(Cold_datos,index=['C1','C2'])\n",
    "Cold_df"
   ]
  },
  {
   "cell_type": "code",
   "execution_count": null,
   "metadata": {},
   "outputs": [],
   "source": [
    "hotst = Hot_df.index.values.tolist()\n",
    "coldst = Cold_df.index.values.tolist()\n",
    "model.i=Set(initialize=hotst)\n",
    "model.j=Set(initialize=coldst)\n",
    "model.k=Set(initialize=Hot_df.columns)"
   ]
  },
  {
   "cell_type": "markdown",
   "metadata": {},
   "source": [
    "Podemos ver lo que hemos creado hasta ahora haciendo un model.pprint()"
   ]
  },
  {
   "cell_type": "code",
   "execution_count": null,
   "metadata": {},
   "outputs": [],
   "source": [
    "model.pprint()"
   ]
  },
  {
   "cell_type": "markdown",
   "metadata": {},
   "source": [
    "Creamos ahora las variables del modelo. Para cada tipo de utility creamos una variable para cada intervalo, luego impondremos en qué intervalos esa utility es cero."
   ]
  },
  {
   "cell_type": "code",
   "execution_count": null,
   "metadata": {},
   "outputs": [],
   "source": [
    "Qhps = model.Qhps = Var(model.k,within = NonNegativeReals)\n",
    "Qlps = model.Qlps = Var(model.k,within = NonNegativeReals)\n",
    "Qw = model.Qw = Var(model.k,within = NonNegativeReals)\n",
    "R = model.R = Var(model.k,within = NonNegativeReals)"
   ]
  },
  {
   "cell_type": "markdown",
   "metadata": {},
   "source": [
    "Creamos la función de coste a partir de los consumos de utilities y sus precios. Aunque las unidades no coincidan, para la solución da igual. Es decir los precios están en $/kWyr y los consumos en MW. Tendría que coger como base de cálculo un año y los MW transformarlos en kWyr. Como cada término se multiplicaría por el mismo valor, no hay problema porque la solución sería la misma (aunque no sería igual el valor de la FO)."
   ]
  },
  {
   "cell_type": "code",
   "execution_count": null,
   "metadata": {},
   "outputs": [],
   "source": [
    "model.coste = Objective(expr = Qhps[1]*80+Qlps[3]*50 + Qw[5]*20)"
   ]
  },
  {
   "cell_type": "markdown",
   "metadata": {},
   "source": [
    "Constraints"
   ]
  },
  {
   "cell_type": "code",
   "execution_count": null,
   "metadata": {},
   "outputs": [],
   "source": [
    "ni = list(model.k)[1:] \n",
    "model.int = ConstraintList()\n",
    "for i in ni:\n",
    "    model.int.add(\n",
    "        R[i-1]+Qhps[i]+Qlps[i]+sum(Hot_df[i]) == R[i]+sum(Cold_df[i])+Qw[i]\n",
    "    )\n",
    "\n",
    "model.R0 = Constraint(expr = R[0] == 0) \n",
    "model.R9 = Constraint(expr = R[5] == 0)\n",
    "\n",
    "nii = list(model.k)[0:1]+list(model.k)[2:] \n",
    "model.hps = ConstraintList()\n",
    "for i in nii:\n",
    "    model.hps.add(\n",
    "        Qhps[i]==0\n",
    "    )\n",
    "\n",
    "niii = list(model.k)[0:3]+list(model.k)[4:] \n",
    "model.lps = ConstraintList()\n",
    "for i in niii:\n",
    "    model.lps.add(\n",
    "        Qlps[i]==0\n",
    "    )\n",
    "\n",
    "niiii = list(model.k)[0:5] \n",
    "model.cw = ConstraintList()\n",
    "for i in niiii:\n",
    "    model.cw.add(\n",
    "        Qw[i]==0\n",
    "    )"
   ]
  },
  {
   "cell_type": "markdown",
   "metadata": {},
   "source": [
    "Resolvemos el modelo"
   ]
  },
  {
   "cell_type": "code",
   "execution_count": null,
   "metadata": {},
   "outputs": [],
   "source": [
    "results = SolverFactory('glpk').solve(model)\n",
    "model.pprint()\n",
    "results.write()"
   ]
  },
  {
   "cell_type": "code",
   "execution_count": null,
   "metadata": {},
   "outputs": [],
   "source": [
    "Qh = value(model.Qhps[1])\n",
    "Ql = value(model.Qlps[3])\n",
    "Qw = value(model.Qw[5])\n",
    "print('Cold utility = {0:2.2f}, LP Steam = {1:2.2f}, HP Steam = {2:2.2f}'.format(Qw, Ql, Qh))"
   ]
  },
  {
   "cell_type": "code",
   "execution_count": null,
   "metadata": {},
   "outputs": [],
   "source": [
    "del model\n",
    "model = ConcreteModel()"
   ]
  },
  {
   "cell_type": "code",
   "execution_count": null,
   "metadata": {},
   "outputs": [],
   "source": [
    "s=hotst.copy()\n",
    "s.insert(0,'LPS')\n",
    "s.insert(1,'HPS')\n",
    "w=coldst.copy()\n",
    "w.insert(0,'W')\n",
    "\n",
    "model.i=Set(initialize=hotst)\n",
    "model.j=Set(initialize=coldst)\n",
    "model.s=Set(initialize=s)\n",
    "model.S=Set(initialize=['LPS','HPS'])\n",
    "model.w=Set(initialize=w)\n",
    "model.W=Set(initialize='W')\n",
    "model.k=Set(initialize=Hot_df.columns)\n",
    "\n",
    "intmax=max(Hot_df.columns)\n",
    "\n",
    "R = model.R = Var(model.s,model.k,within = NonNegativeReals)\n",
    "Q = model.Q = Var(model.s,model.w,model.k,within = NonNegativeReals)\n",
    "Qs = model.Qs = Var(model.S,model.k,within = NonNegativeReals)\n",
    "Qw = model.Qw = Var(model.k,within = NonNegativeReals)"
   ]
  },
  {
   "cell_type": "code",
   "execution_count": null,
   "metadata": {},
   "outputs": [],
   "source": [
    "model.coste = Objective(expr = Qs['HPS',1]*80+Qs['LPS',3]*50 + Qw[5]*20)"
   ]
  },
  {
   "cell_type": "code",
   "execution_count": null,
   "metadata": {},
   "outputs": [],
   "source": [
    "nk = list(model.k)[1:] #Creamos una lista que contenga los índices sobre los que haremos el balance. En nuestro caso el balance lo aplicamos en todos los intervalos, excepto el intervalo 0. Es decir sobre 1-5, lo cual expresamos por [1:], es decir, desde 1 hasta el final de la lista.\n",
    "model.C1 = ConstraintList()\n",
    "for k in nk:\n",
    "    for i in model.i:\n",
    "        model.C1.add(\n",
    "        R[i,k-1]+Hot_df.loc[i,k] == R[i,k]+sum(Q[i,j,k] for j in model.j)+sum(Q[i,w,k] for w in model.W)\n",
    "        )\n",
    "\n",
    "model.C2 = ConstraintList()\n",
    "for k in nk:\n",
    "    for s in model.S:\n",
    "        model.C2.add(\n",
    "        R[s,k-1]+Qs[s,k] == R[s,k]+sum(Q[s,j,k] for j in model.j)\n",
    "        )        \n",
    "\n",
    "model.C3 = ConstraintList()\n",
    "for k in nk:\n",
    "    for j in model.j:\n",
    "        model.C3.add(\n",
    "        sum(Q[i,j,k] for i in model.i)+ sum(Q[i,j,k] for i in model.S) == Cold_df.loc[j,k]\n",
    "        )\n",
    "\n",
    "model.C4 = ConstraintList()\n",
    "for k in nk:\n",
    "        model.C4.add(\n",
    "        sum(Q[i,'W',k] for i in model.i)  == Qw[k]\n",
    "        )\n",
    "\n",
    "model.C41 = ConstraintList()\n",
    "for k in nk:\n",
    "        model.C41.add(\n",
    "        sum(Q['LPS',j,k] for j in model.j)  == Qs['LPS',k]\n",
    "        )\n",
    "\n",
    "model.C42 = ConstraintList()\n",
    "for k in nk:\n",
    "        model.C42.add(\n",
    "        sum(Q['HPS',j,k] for j in model.j)  == Qs['HPS',k]\n",
    "        )\n",
    "\n",
    "model.C5 = ConstraintList()\n",
    "for s in model.s:\n",
    "    model.C5.add(\n",
    "        R[s,0]==0\n",
    "        )\n",
    "\n",
    "model.C6 = ConstraintList()\n",
    "for s in model.s:\n",
    "    model.C6.add(\n",
    "        R[s,intmax]==0\n",
    "        )\n",
    "\n",
    "    \n",
    "nii = list(model.k)[0:1]+list(model.k)[2:] \n",
    "model.C71 = ConstraintList()\n",
    "for i in nii:\n",
    "    model.C71.add(\n",
    "        Qs['HPS',i]==0\n",
    "    )\n",
    "\n",
    "niii = list(model.k)[0:3]+list(model.k)[4:] \n",
    "model.C72 = ConstraintList()\n",
    "for i in niii:\n",
    "    model.C72.add(\n",
    "        Qs['LPS',i]==0\n",
    "    )\n",
    "\n",
    "nn = list(model.k)[0:intmax]\n",
    "model.C8 = ConstraintList()\n",
    "for n in nn:\n",
    "    model.C8.add(\n",
    "        Qw[n]==0\n",
    "        )\n",
    "\n",
    "model.C9 = ConstraintList()\n",
    "for k in model.k:\n",
    "    model.C9.add(\n",
    "        Q['LPS','W',k] ==0\n",
    "    )\n",
    "\n",
    "model.C91 = ConstraintList()\n",
    "for k in model.k:\n",
    "    model.C91.add(\n",
    "        Q['HPS','W',k] ==0\n",
    "    )\n",
    "\n",
    "model.C10 = ConstraintList()\n",
    "for k in nk:\n",
    "        model.C10.add(\n",
    "        sum(Q[i,j,0] for i in model.i for j in model.j)  == 0\n",
    "        )"
   ]
  },
  {
   "cell_type": "code",
   "execution_count": null,
   "metadata": {},
   "outputs": [],
   "source": [
    "results = SolverFactory('glpk').solve(model)\n",
    "#model.pprint()\n",
    "results.write()\n",
    "Qh = value(model.Qs['HPS',1])\n",
    "Ql = value(model.Qs['LPS',3])\n",
    "Qw = value(model.Qw[5])\n",
    "print('Cold utility = {0:2.2f}, LP Steam = {1:2.2f}, HP Steam = {2:2.2f}'.format(Qw, Ql, Qh))"
   ]
  },
  {
   "cell_type": "code",
   "execution_count": null,
   "metadata": {},
   "outputs": [],
   "source": [
    "U = {'C1': [5, 60,200,190], 'C2': [5, 60,140,140], 'W':[0,60,75,75]}\n",
    "U_df = pd.DataFrame(U, index=['LPS','HPS', 'H1', 'H2'])\n",
    "U_df"
   ]
  },
  {
   "cell_type": "code",
   "execution_count": null,
   "metadata": {},
   "outputs": [],
   "source": [
    "model.y=Var(model.s,model.w, within=Binary)\n",
    "\n",
    "model.C11 = ConstraintList()\n",
    "for s in model.s:\n",
    "    for w in model.w:\n",
    "        model.C11.add(\n",
    "        sum(Q[s,w,k] for k in model.k)-U_df.loc[s,w]*model.y[s,w] <=0\n",
    "        ) "
   ]
  },
  {
   "cell_type": "code",
   "execution_count": null,
   "metadata": {},
   "outputs": [],
   "source": [
    "model.coste.deactivate()\n",
    "model.sumy = Objective(expr=sum(model.y[s,w] for s in model.s for w in model.w))\n",
    "\n",
    "\n",
    "results = SolverFactory('glpk').solve(model)\n",
    "results.write()"
   ]
  },
  {
   "cell_type": "code",
   "execution_count": null,
   "metadata": {},
   "outputs": [],
   "source": [
    "model.pprint()\n",
    "optimal_values = {(i, j,k): value(model.Q[i,j,k]) for i in model.s for j in model.w for k in model.k}\n",
    "df=pd.DataFrame.from_dict(optimal_values, orient=\"index\", columns=['Q'])\n",
    "df.to_excel('Datos/Resultados_Ejercicio5.xlsx', sheet_name=\"Results_Q\")"
   ]
  }
 ],
 "metadata": {
  "kernelspec": {
   "display_name": "Python 3.8.3 ('base')",
   "language": "python",
   "name": "python3"
  },
  "language_info": {
   "codemirror_mode": {
    "name": "ipython",
    "version": 3
   },
   "file_extension": ".py",
   "mimetype": "text/x-python",
   "name": "python",
   "nbconvert_exporter": "python",
   "pygments_lexer": "ipython3",
   "version": "3.9.13"
  },
  "orig_nbformat": 4,
  "vscode": {
   "interpreter": {
    "hash": "e06ff7da33dc9620448857a90ad8b5f428f0d573d205a934d2841c8aee45ea32"
   }
  }
 },
 "nbformat": 4,
 "nbformat_minor": 2
}
