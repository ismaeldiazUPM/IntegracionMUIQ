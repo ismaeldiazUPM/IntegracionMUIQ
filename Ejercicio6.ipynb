{
 "cells": [
  {
   "cell_type": "markdown",
   "metadata": {},
   "source": [
    "![Ejemplo 6](images/Ej6.png)"
   ]
  },
  {
   "cell_type": "code",
   "execution_count": null,
   "metadata": {},
   "outputs": [],
   "source": [
    "from pyomo.environ import *\n",
    "import pandas as pd\n",
    "\n",
    "model = ConcreteModel()"
   ]
  },
  {
   "cell_type": "markdown",
   "metadata": {},
   "source": [
    "Leemos los datos de las corrientes calientes"
   ]
  },
  {
   "cell_type": "code",
   "execution_count": null,
   "metadata": {},
   "outputs": [],
   "source": [
    "Hot_datos = {0: [0,0], 1: [600,0], 2: [150,75], 3: [1650,825],4: [900,450], 5:[0,450]}\n",
    "Hot_df = pd.DataFrame(Hot_datos,index=['H1','H2'])\n",
    "Hot_df"
   ]
  },
  {
   "cell_type": "markdown",
   "metadata": {},
   "source": [
    "E igualmente de las frías."
   ]
  },
  {
   "cell_type": "code",
   "execution_count": null,
   "metadata": {},
   "outputs": [],
   "source": [
    "Cold_datos =  {0: [0,0], 1:[0,0], 2: [0,200], 3: [1100,2200], 4: [600,0], 5:[600,0]}\n",
    "Cold_df = pd.DataFrame(Cold_datos,index=['C1','C2'])\n",
    "Cold_df"
   ]
  },
  {
   "cell_type": "code",
   "execution_count": null,
   "metadata": {},
   "outputs": [],
   "source": [
    "hotst = Hot_df.index.values.tolist()\n",
    "coldst = Cold_df.index.values.tolist()\n",
    "s=hotst.copy()\n",
    "s.insert(0,'S')\n",
    "w=coldst.copy()\n",
    "w.insert(0,'W')\n",
    "\n",
    "model.i=Set(initialize=hotst)\n",
    "model.j=Set(initialize=coldst)\n",
    "model.s=Set(initialize=s)\n",
    "model.S=Set(initialize='S')\n",
    "model.w=Set(initialize=w)\n",
    "model.W=Set(initialize='W')\n",
    "model.k=Set(initialize=Hot_df.columns)\n"
   ]
  },
  {
   "cell_type": "markdown",
   "metadata": {},
   "source": [
    "Podemos ver lo que hemos creado hasta ahora haciendo un model.pprint()"
   ]
  },
  {
   "cell_type": "code",
   "execution_count": null,
   "metadata": {},
   "outputs": [],
   "source": [
    "model.pprint()"
   ]
  },
  {
   "cell_type": "markdown",
   "metadata": {},
   "source": [
    "Creamos ahora las variables del modelo. Hay i potenciales aportes de calor por utilities calientes (Qs), uno en cada intervalo, al igual que de frías (Qw). De esta forma damos la oportunidad de que entren las utilities en cualquier nivel de temperatura. Creamos también i residuos (R), aunque sabemos que no habrá residuo del intervalo 0 ni tampoco del intervalo 9, lo cual implementaremos como dos restricciones diferentes."
   ]
  },
  {
   "cell_type": "code",
   "execution_count": null,
   "metadata": {},
   "outputs": [],
   "source": [
    "Qs = model.Qs = Var(model.k,within = NonNegativeReals) \n",
    "Qw = model.Qw = Var(model.k,within = NonNegativeReals) \n",
    "R = model.R = Var(model.s,model.k,within = NonNegativeReals)\n",
    "Q = model.Q = Var(model.s,model.w,model.k,within = NonNegativeReals)"
   ]
  },
  {
   "cell_type": "markdown",
   "metadata": {},
   "source": [
    "Buscamos la minimización del vapor del intervalo 1 más la utility fría del intervalo 9."
   ]
  },
  {
   "cell_type": "code",
   "execution_count": null,
   "metadata": {},
   "outputs": [],
   "source": [
    "model.util = Objective(expr = model.Qs[1] + model.Qw[5])"
   ]
  },
  {
   "cell_type": "markdown",
   "metadata": {},
   "source": [
    "Constraints"
   ]
  },
  {
   "cell_type": "code",
   "execution_count": null,
   "metadata": {},
   "outputs": [],
   "source": [
    "nk = list(model.k)[1:] \n",
    "model.C1 = ConstraintList()\n",
    "for k in nk:\n",
    "    for i in model.i:\n",
    "        model.C1.add(\n",
    "        R[i,k-1]+Hot_df.loc[i,k] == R[i,k]+sum(Q[i,j,k] for j in model.j)+sum(Q[i,w,k] for w in model.W)\n",
    "        )\n",
    "\n",
    "model.C2 = ConstraintList()\n",
    "for k in nk:\n",
    "    for s in model.S:\n",
    "        model.C2.add(\n",
    "        R[s,k-1]+Qs[k] == R[s,k]+sum(Q[s,j,k] for j in model.j)\n",
    "        )        \n",
    "\n",
    "model.C3 = ConstraintList()\n",
    "for k in nk:\n",
    "    for j in model.j:\n",
    "        model.C3.add(\n",
    "        sum(Q[i,j,k] for i in model.i)+ sum(Q[i,j,k] for i in model.S) == Cold_df.loc[j,k]\n",
    "        )\n",
    "\n",
    "model.C4 = ConstraintList()\n",
    "for k in nk:\n",
    "        model.C4.add(\n",
    "        sum(Q[i,'W',k] for i in model.i)  == Qw[k]\n",
    "        )\n",
    "\n",
    "\n",
    "model.C5 = ConstraintList()\n",
    "for s in model.s:\n",
    "    model.C5.add(\n",
    "        R[s,0]==0\n",
    "        )\n",
    "\n",
    "model.C6 = ConstraintList()\n",
    "for s in model.s:\n",
    "    model.C6.add(\n",
    "        R[s,5]==0\n",
    "        )\n",
    "\n",
    "nm = list(model.k)[0:1]+list(model.k)[2:]\n",
    "model.C7 = ConstraintList()\n",
    "for m in nm:\n",
    "    model.C7.add(\n",
    "        Qs[m]==0\n",
    "        )\n",
    "\n",
    "nn = list(model.k)[0:5]\n",
    "model.C8 = ConstraintList()\n",
    "for n in nn:\n",
    "    model.C8.add(\n",
    "        Qw[n]==0\n",
    "        )\n",
    "\n",
    "model.C9 = ConstraintList()\n",
    "for k in model.k:\n",
    "    model.C9.add(\n",
    "        Q['S','W',k] ==0\n",
    "    )"
   ]
  },
  {
   "cell_type": "markdown",
   "metadata": {},
   "source": [
    "Resolvemos el modelo"
   ]
  },
  {
   "cell_type": "code",
   "execution_count": null,
   "metadata": {},
   "outputs": [],
   "source": [
    "results = SolverFactory('glpk').solve(model)\n",
    "model.pprint()\n",
    "results.write()"
   ]
  },
  {
   "cell_type": "code",
   "execution_count": null,
   "metadata": {},
   "outputs": [],
   "source": [
    "Qss = value(model.Qs[1])\n",
    "Qww = value(model.Qw[5])\n",
    "print('Cold utility = {0:2.2f}, Hot utility = {1:2.2f}'.format(Qww, Qss))"
   ]
  },
  {
   "cell_type": "markdown",
   "metadata": {},
   "source": [
    "Ahora resolvemos el problema de mínimo número de intercambios"
   ]
  },
  {
   "cell_type": "code",
   "execution_count": null,
   "metadata": {},
   "outputs": [],
   "source": [
    "U = {'C1': [200, 2300,1800], 'C2': [200, 2400,1800], 'W':[0,600,600]}\n",
    "U_df = pd.DataFrame(U, index=['S', 'H1', 'H2'])\n",
    "U_df"
   ]
  },
  {
   "cell_type": "code",
   "execution_count": null,
   "metadata": {},
   "outputs": [],
   "source": [
    "model.y=Var(model.s,model.w, within=Binary)\n",
    "\n",
    "model.C10 = ConstraintList()\n",
    "for s in model.s:\n",
    "    for w in model.w:\n",
    "        model.C10.add(\n",
    "        sum(Q[s,w,k] for k in model.k)-U_df.loc[s,w]*model.y[s,w] <=0\n",
    "        )    "
   ]
  },
  {
   "cell_type": "code",
   "execution_count": null,
   "metadata": {},
   "outputs": [],
   "source": [
    "model.util.deactivate()\n",
    "model.sumy = Objective(expr=sum(model.y[s,w] for s in model.s for w in model.w))"
   ]
  },
  {
   "cell_type": "code",
   "execution_count": null,
   "metadata": {},
   "outputs": [],
   "source": [
    "results = SolverFactory('glpk').solve(model)\n",
    "model.pprint()\n",
    "results.write()"
   ]
  },
  {
   "cell_type": "code",
   "execution_count": null,
   "metadata": {},
   "outputs": [],
   "source": [
    "modelNLP = ConcreteModel()"
   ]
  },
  {
   "cell_type": "code",
   "execution_count": null,
   "metadata": {},
   "outputs": [],
   "source": [
    "fH1I_1 = modelNLP.fH1I_1 = Var(bounds=(0,30), initialize=10)\n",
    "fH1I_2 = modelNLP.fH1I_2 = Var(bounds=(0,30), initialize=10)\n",
    "fC1I_1 = modelNLP.fC1I_1 = Var(bounds=(0,20), initialize=10)\n",
    "fC1I_2 = modelNLP.fC1I_2 = Var(bounds=(0,20), initialize=10)\n",
    "\n",
    "fH1E_1 = modelNLP.fH1E_1 = Var(bounds=(0,30), initialize=10)\n",
    "fH1E_2 = modelNLP.fH1E_2 = Var(bounds=(0,30), initialize=10)\n",
    "fC1E_1 = modelNLP.fC1E_1 = Var(bounds=(0,20), initialize=10)\n",
    "fC1E_2 = modelNLP.fC1E_2 = Var(bounds=(0,20), initialize=10)\n",
    "\n",
    "\n",
    "\n",
    "TH1I_1 = modelNLP.TH1I_1 = Var(bounds=(293,443),initialize=442)\n",
    "TH1I_2 = modelNLP.TH1I_2 = Var(bounds=(293,443),initialize=442)\n",
    "TC1I_1 = modelNLP.TC1I_1 = Var(bounds=(293,443),initialize=298)\n",
    "TC1I_2 = modelNLP.TC1I_2 = Var(bounds=(293,443),initialize=298)\n",
    "\n",
    "TH1E = modelNLP.TH1E = Var(bounds=(293,443),initialize=410)\n",
    "TH2E = modelNLP.TH2E = Var(bounds=(293,443),initialize=410)\n",
    "TC1E = modelNLP.TC1E = Var(bounds=(293,443),initialize=310)\n",
    "TC2E = modelNLP.TC2E = Var(bounds=(293,443),initialize=358)\n",
    "\n",
    "\n",
    "TH1E_1 = modelNLP.TH1E_1 = Var(bounds=(293,443),initialize=398)\n",
    "TH1E_2 = modelNLP.TH1E_2 = Var(bounds=(293,443),initialize=398)\n",
    "TH1F = modelNLP.TH1F = Var(bounds=(293,443),initialize=380)\n",
    "\n",
    "TC1E_1 = modelNLP.TC1E_1 = Var(bounds=(293,443),initialize=312)\n",
    "TC1E_2 = modelNLP.TC1E_2 = Var(bounds=(293,443),initialize=315)\n",
    "TC1F = modelNLP.TC1F = Var(bounds=(293,443),initialize=370)\n",
    "\n",
    "DT1H1C1_1 = modelNLP.DT1H1C1_1 = Var(bounds=(10,500),initialize=10)\n",
    "DT1H1C1_2 = modelNLP.DT1H1C1_2 = Var(bounds=(10,500),initialize=10)\n",
    "DT2H1C1_1 = modelNLP.DT2H1C1_1 = Var(bounds=(10,500),initialize=10)\n",
    "DT2H1C1_2 = modelNLP.DT2H1C1_2 = Var(bounds=(10,500),initialize=10)\n",
    "\n",
    "DT1H1C2_1 = modelNLP.DT1H1C2_1 = Var(bounds=(10,500),initialize=10)\n",
    "DT1H1C2_2 = modelNLP.DT1H1C2_2 = Var(bounds=(10,500),initialize=10)\n",
    "DT2H1C2_1 = modelNLP.DT2H1C2_1 = Var(bounds=(10,500),initialize=10)\n",
    "DT2H1C2_2 = modelNLP.DT2H1C2_2 = Var(bounds=(10,500),initialize=10)\n",
    "\n",
    "DT1H2C1_1 = modelNLP.DT1H2C1_1 = Var(bounds=(10,500),initialize=10)\n",
    "DT1H2C1_2 = modelNLP.DT1H2C1_2 = Var(bounds=(10,500),initialize=10)\n",
    "DT2H2C1_1 = modelNLP.DT2H2C1_1 = Var(bounds=(10,500),initialize=10)\n",
    "DT2H2C1_2 = modelNLP.DT2H2C1_2 = Var(bounds=(10,500),initialize=10)\n",
    "\n",
    "QH1C1_1 = modelNLP.QH1C1_1 = Var(bounds=(0.000001,300), initialize = 100)\n",
    "QH1C1_2 = modelNLP.QH1C1_2 = Var(bounds=(0.000001,300), initialize = 100)\n",
    "QH1C2_1 = modelNLP.QH1C2_1 = Var(bounds=(0.000001,2400), initialize = 100)\n",
    "QH1C2_2 = modelNLP.QH1C2_2 = Var(bounds=(0.000001,2400), initialize = 100)\n",
    "QH2C1_1 = modelNLP.QH2C1_1 = Var(bounds=(0.000001,1800), initialize = 100)\n",
    "QH2C1_2 = modelNLP.QH2C1_2 = Var(bounds=(0.000001,1800), initialize = 100)\n",
    "\n",
    "LMTD11_1 =modelNLP.LMTD11_1 = Var(bounds=(0.0000,1e6), initialize = 10)\n",
    "LMTD11_2 =modelNLP.LMTD11_2 = Var(bounds=(0.0000,1e6), initialize = 10)\n",
    "LMTD12_1 =modelNLP.LMTD12_1 = Var(bounds=(0.0000,1e6), initialize = 10)\n",
    "LMTD12_2 =modelNLP.LMTD12_2 = Var(bounds=(0.0000,1e6), initialize = 10)\n",
    "LMTD21_1 =modelNLP.LMTD21_1 = Var(bounds=(0.0000,1e6), initialize = 10)\n",
    "LMTD21_2 =modelNLP.LMTD21_2 = Var(bounds=(0.0000,1e6), initialize = 10)\n"
   ]
  },
  {
   "cell_type": "code",
   "execution_count": null,
   "metadata": {},
   "outputs": [],
   "source": [
    "modelNLP.SPLIT1 = Constraint(expr=fC1I_1+fC1I_2==20)\n",
    "modelNLP.SPLIT2 = Constraint(expr=fC1E_1+fC1E_2==20)\n",
    "modelNLP.SPLIT3 = Constraint(expr=fH1I_1+fH1I_2==30)\n",
    "modelNLP.SPLIT4 = Constraint(expr=fH1E_1+fH1E_2==30)\n",
    "\n",
    "modelNLP.EN_MIX1 = Constraint(expr=TC1I_1*fC1I_1+TC1I_2*fC1I_2==20*TC1E)\n",
    "modelNLP.EN_MIX2 = Constraint(expr=TC1E_1*fC1E_1+TC1E_2*fC1E_2==20*TC1F)\n",
    "modelNLP.EN_MIX3 = Constraint(expr=TH1I_1*fH1I_1+TH1I_2*fH1I_2==30*TH1E)\n",
    "modelNLP.EN_MIX4 = Constraint(expr=TH1E_1*fH1E_1+TH1E_2*fH1E_2==30*TH1F)\n",
    "\n",
    "modelNLP.HEATEXH1C1_1 = Constraint(expr=fC1E_1*(TC1E_1-TC1E)==fH1I_1*(443-TH1I_1))\n",
    "modelNLP.HEATEXH1C1_2 = Constraint(expr=fC1I_1*(TC1I_1-293)==fH1E_1*(TH1E-TH1E_1))\n",
    "modelNLP.HEATEXH1C2_1 = Constraint(expr=40*(413-TC2E)==fH1I_2*(443-TH1I_2))\n",
    "modelNLP.HEATEXH1C2_2 = Constraint(expr=40*(TC2E-353)==fH1E_2*(TH1E-TH1E_2))\n",
    "modelNLP.HEATEXH2C1_1 = Constraint(expr=15*(423-TH2E)==fC1E_2*(TC1E_2-TC2E))\n",
    "modelNLP.HEATEXH2C1_2 = Constraint(expr=15*(TH2E-303)==fC1I_2*(TC1I_2-293))\n",
    "\n",
    "modelNLP.sumQH1C1 = Constraint(expr=fC1E_1*(TC1E_1-TC1E)+fC1I_1*(TC1I_1-293)==300)\n",
    "modelNLP.sumQH1C2 = Constraint(expr=40*(413-TC2E)+40*(TC2E-353)==2400)\n",
    "modelNLP.sumQH2C1 = Constraint(expr=15*(423-TH2E)+15*(TH2E-303)==1800)\n",
    "\n",
    "modelNLP.heater = Constraint(expr= 20*(408-TC1F)==200)\n",
    "modelNLP.cooler = Constraint(expr= 30*(TH1F-333)==600)\n",
    "\n",
    "modelNLP.EQQH1C1_1 = Constraint(expr=fC1E_1*(TC1E_1-TC1E)==QH1C1_1)\n",
    "modelNLP.EQQH1C1_2 = Constraint(expr=fC1I_1*(TC1I_1-293)==QH1C1_2)\n",
    "modelNLP.EQQH1C2_1 = Constraint(expr=40*(413-TC2E)==QH1C2_1)\n",
    "modelNLP.EQQH1C2_2 = Constraint(expr=40*(TC2E-353)==QH1C2_2)\n",
    "modelNLP.EQQH2C1_1 = Constraint(expr=15*(423-TH2E)==QH2C1_1)\n",
    "modelNLP.EQQH2C1_2 = Constraint(expr=15*(TH2E-303)==QH2C1_2)\n",
    "\n",
    "modelNLP.DT1H1C11 = Constraint(expr=443-TC1E_1>=10)\n",
    "modelNLP.DT1H1C12 = Constraint(expr=TH1I_1-TC1E>=10)\n",
    "modelNLP.DT2H1C11 = Constraint(expr=TH1E-TC1I_1>=10)\n",
    "modelNLP.DT2H1C12 = Constraint(expr=TH1F-293>=10)\n",
    "#modelNLP.DT1H1C21 = Constraint(expr=443-413>=10)\n",
    "modelNLP.DT1H1C22 = Constraint(expr=TH1I_2-TC2E>=10)\n",
    "modelNLP.DT2H1C21 = Constraint(expr=TH1E-TC2E>=10)\n",
    "modelNLP.DT2H1C22 = Constraint(expr=TH1E_2-353>=10)\n",
    "modelNLP.DT1H2C11 = Constraint(expr=423-TC1E_2>=10)\n",
    "modelNLP.DT1H2C12 = Constraint(expr=TH2E-TC1E>=10)\n",
    "modelNLP.DT2H2C11 = Constraint(expr=TH2E-TC1I_2>=10)\n",
    "#modelNLP.DT2H2C12= Constraint(expr=303-293>=10)\n",
    "\n",
    "\n",
    "modelNLP.DELT1H1C11 = Constraint(expr=443-TC1E_1==DT1H1C1_1)\n",
    "modelNLP.DELT1H1C12 = Constraint(expr=TH1I_1-TC1E==DT1H1C1_2)\n",
    "modelNLP.DELT2H1C11 = Constraint(expr=TH1E-TC1I_1==DT2H1C1_1)\n",
    "modelNLP.DELT2H1C12 = Constraint(expr=TH1F-293==DT2H1C1_2)\n",
    "modelNLP.DELT1H1C21 = Constraint(expr=443-413==DT1H1C2_1)\n",
    "modelNLP.DELT1H1C22 = Constraint(expr=TH1I_2-TC2E==DT1H1C2_2)\n",
    "modelNLP.DELT2H1C21 = Constraint(expr=TH1E-TC2E==DT2H1C2_1)\n",
    "modelNLP.DELT2H1C22 = Constraint(expr=TH1E_2-353==DT2H1C2_2)\n",
    "modelNLP.DELT1H2C11 = Constraint(expr=423-TC1E_2==DT1H2C1_1)\n",
    "modelNLP.DELT1H2C12 = Constraint(expr=TH2E-TC1E==DT1H2C1_2)\n",
    "modelNLP.DELT2H2C11 = Constraint(expr=TH2E-TC1I_2==DT2H2C1_1)\n",
    "modelNLP.DELT2H2C12 = Constraint(expr=303-293==DT2H2C1_2)\n",
    "\n",
    "modelNLP.EQ_LMTD11_1 = Constraint(expr=(2/3*(DT1H1C1_1*DT1H1C1_2)**0.5+1/6*(DT1H1C1_1+DT1H1C1_2))==LMTD11_1)\n",
    "modelNLP.EQ_LMTD11_2 = Constraint(expr=(2/3*(DT2H1C1_1*DT2H1C1_2)**0.5+1/6*(DT2H1C1_1+DT2H1C1_2))==LMTD11_2)\n",
    "modelNLP.EQ_LMTD12_1 = Constraint(expr=(2/3*(DT1H1C2_1*DT1H1C2_2)**0.5+1/6*(DT1H1C2_1+DT1H1C2_2))==LMTD12_1)\n",
    "modelNLP.EQ_LMTD12_2 = Constraint(expr=(2/3*(DT2H1C2_1*DT2H1C2_2)**0.5+1/6*(DT2H1C2_1+DT2H1C2_2))==LMTD12_2)\n",
    "modelNLP.EQ_LMTD21_1 = Constraint(expr=(2/3*(DT1H2C1_1*DT1H2C1_2)**0.5+1/6*(DT1H2C1_1+DT1H2C1_2))==LMTD21_1)\n",
    "modelNLP.EQ_LMTD21_2 = Constraint(expr=(2/3*(DT2H2C1_1*DT2H2C1_2)**0.5+1/6*(DT2H2C1_1+DT2H2C1_2))==LMTD21_2)\n",
    "\n"
   ]
  },
  {
   "cell_type": "code",
   "execution_count": null,
   "metadata": {},
   "outputs": [],
   "source": [
    "modelNLP.Coste = Objective(expr=1200*(200/(1200*(10)))**0.6+1000*(QH1C1_1/(800*(LMTD11_1)))**0.6+\n",
    "1000*(QH1C1_2/(800*(LMTD11_2)))**0.6+1000*(QH1C2_1/(800*(LMTD12_1)))**0.6+1000*(QH1C2_2/(800*(LMTD12_2)))**0.6\n",
    "+1000*(QH2C1_1/(800*(LMTD21_1)))**0.6+1000*(QH2C1_2/(800*(LMTD21_2)))**0.6+1000*(600/(800*(10)))**0.6)"
   ]
  },
  {
   "cell_type": "code",
   "execution_count": null,
   "metadata": {},
   "outputs": [],
   "source": [
    "solver = 'ipopt'\n",
    "resultsNLP = SolverFactory(solver).solve(modelNLP)\n",
    "modelNLP.pprint()\n",
    "resultsNLP.write()\n",
    "Cost = value(modelNLP.Coste)\n",
    "print('El coste usando {0} es de {1:.2f}'.format(solver,Cost))"
   ]
  },
  {
   "cell_type": "code",
   "execution_count": null,
   "metadata": {},
   "outputs": [],
   "source": [
    "# solver = 'gams'\n",
    "# resultsNLP = SolverFactory(solver).solve(modelNLP, solver='CONOPT4', keepfiles=True, tee=True)\n",
    "# modelNLP.pprint()\n",
    "# resultsNLP.write()\n",
    "# Cost = value(modelNLP.Coste)\n",
    "# print('El coste usando {0} es de {1:.2f}'.format(solver,Cost))"
   ]
  }
 ],
 "metadata": {
  "kernelspec": {
   "display_name": "Python 3.9.12 ('base')",
   "language": "python",
   "name": "python3"
  },
  "language_info": {
   "codemirror_mode": {
    "name": "ipython",
    "version": 3
   },
   "file_extension": ".py",
   "mimetype": "text/x-python",
   "name": "python",
   "nbconvert_exporter": "python",
   "pygments_lexer": "ipython3",
   "version": "3.8.3"
  },
  "orig_nbformat": 4,
  "vscode": {
   "interpreter": {
    "hash": "e06ff7da33dc9620448857a90ad8b5f428f0d573d205a934d2841c8aee45ea32"
   }
  }
 },
 "nbformat": 4,
 "nbformat_minor": 2
}
